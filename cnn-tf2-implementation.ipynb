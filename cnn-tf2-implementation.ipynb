{
 "cells": [
  {
   "cell_type": "code",
   "execution_count": 1,
   "metadata": {},
   "outputs": [],
   "source": [
    "import numpy as np\n",
    "import tensorflow as tf\n",
    "import datetime\n",
    "import load_patches\n",
    "from tensorflow import keras\n",
    "from matplotlib import pyplot as plt\n",
    "from sklearn.model_selection import train_test_split\n",
    "\n",
    "%matplotlib inline\n",
    "%load_ext tensorboard"
   ]
  },
  {
   "cell_type": "markdown",
   "metadata": {},
   "source": [
    "**Settings**"
   ]
  },
  {
   "cell_type": "code",
   "execution_count": 2,
   "metadata": {},
   "outputs": [],
   "source": [
    "filename = 'CS8_ROIs.csv'\n",
    "folder = 'cellsuspensionED8/'\n",
    "patch_size = 23\n",
    "\n",
    "# Clipping parameter for histogram equalisation\n",
    "clip_limit = 0.03\n",
    "\n",
    "\n",
    "batch_size = 100\n",
    "epochs = 15"
   ]
  },
  {
   "cell_type": "markdown",
   "metadata": {},
   "source": [
    "**Load data**"
   ]
  },
  {
   "cell_type": "code",
   "execution_count": 3,
   "metadata": {
    "scrolled": true
   },
   "outputs": [],
   "source": [
    "X, y = load_patches.get_patches_and_labels(filename, folder, patch_size, clip_limit)"
   ]
  },
  {
   "cell_type": "markdown",
   "metadata": {},
   "source": [
    "**Create training and validation sets**"
   ]
  },
  {
   "cell_type": "code",
   "execution_count": 4,
   "metadata": {},
   "outputs": [],
   "source": [
    "def cast(x, y):\n",
    "    x = tf.cast(x, tf.float32)\n",
    "    y = tf.cast(y, tf.int64)\n",
    "    return x, y\n",
    "\n",
    "def create_dataset(x, y, n_classes=2):\n",
    "    if n_classes > 2:\n",
    "        y = tf.one_hot(y, depth=n_classes)\n",
    "    return tf.data.Dataset.from_tensor_slices((x, y)).map(cast).shuffle(len(y)).batch(100)"
   ]
  },
  {
   "cell_type": "code",
   "execution_count": 5,
   "metadata": {},
   "outputs": [],
   "source": [
    "X_train, X_val, y_train, y_val = train_test_split(X, y, test_size=0.2)"
   ]
  },
  {
   "cell_type": "code",
   "execution_count": 6,
   "metadata": {},
   "outputs": [],
   "source": [
    "train_ds = create_dataset(X_train, y_train)\n",
    "val_ds = create_dataset(X_val, y_val)"
   ]
  },
  {
   "cell_type": "markdown",
   "metadata": {},
   "source": [
    "**Define the model**"
   ]
  },
  {
   "cell_type": "code",
   "execution_count": 7,
   "metadata": {},
   "outputs": [
    {
     "name": "stdout",
     "output_type": "stream",
     "text": [
      "Model: \"sequential\"\n",
      "_________________________________________________________________\n",
      "Layer (type)                 Output Shape              Param #   \n",
      "=================================================================\n",
      "reshape (Reshape)            (None, 23, 23, 1)         0         \n",
      "_________________________________________________________________\n",
      "conv2d (Conv2D)              (None, 23, 23, 16)        416       \n",
      "_________________________________________________________________\n",
      "max_pooling2d (MaxPooling2D) (None, 11, 11, 16)        0         \n",
      "_________________________________________________________________\n",
      "conv2d_1 (Conv2D)            (None, 11, 11, 32)        12832     \n",
      "_________________________________________________________________\n",
      "max_pooling2d_1 (MaxPooling2 (None, 5, 5, 32)          0         \n",
      "_________________________________________________________________\n",
      "conv2d_2 (Conv2D)            (None, 5, 5, 64)          51264     \n",
      "_________________________________________________________________\n",
      "max_pooling2d_2 (MaxPooling2 (None, 2, 2, 64)          0         \n",
      "_________________________________________________________________\n",
      "dropout (Dropout)            (None, 2, 2, 64)          0         \n",
      "_________________________________________________________________\n",
      "flatten (Flatten)            (None, 256)               0         \n",
      "_________________________________________________________________\n",
      "dense (Dense)                (None, 1024)              263168    \n",
      "_________________________________________________________________\n",
      "dense_1 (Dense)              (None, 1)                 1025      \n",
      "=================================================================\n",
      "Total params: 328,705\n",
      "Trainable params: 328,705\n",
      "Non-trainable params: 0\n",
      "_________________________________________________________________\n"
     ]
    }
   ],
   "source": [
    "# model = keras.Sequential([\n",
    "#     keras.layers.Reshape(target_shape=(23 * 23,), input_shape=(23, 23)),\n",
    "#     keras.layers.Dense(units=256, activation='relu'),\n",
    "#     keras.layers.Dense(units=192, activation='relu'),\n",
    "#     keras.layers.Dense(units=128, activation='relu'),\n",
    "#     keras.layers.Dense(units=10, activation='softmax')\n",
    "# ])\n",
    "\n",
    "# model = keras.Sequential([\n",
    "#     keras.layers.Reshape(target_shape=(patch_size, patch_size , 1), input_shape=(patch_size, patch_size)),\n",
    "#     keras.layers.Conv2D(32, 5, padding='same', activation='relu'),\n",
    "#     keras.layers.MaxPooling2D(),\n",
    "#     keras.layers.Conv2D(64, 5, padding='same', activation='relu'),\n",
    "#     keras.layers.MaxPooling2D(),\n",
    "#     keras.layers.Dropout(0.2),\n",
    "#     keras.layers.Flatten(),\n",
    "#     keras.layers.Dense(1024, activation='relu'),\n",
    "#     keras.layers.Dense(1, activation='sigmoid')\n",
    "# ])\n",
    "\n",
    "model = keras.Sequential([\n",
    "    keras.layers.Reshape(target_shape=(patch_size, patch_size , 1), input_shape=(patch_size, patch_size)),\n",
    "    keras.layers.Conv2D(16, 5, padding='same', activation='relu'),\n",
    "    keras.layers.MaxPooling2D(),\n",
    "    keras.layers.Conv2D(32, 5, padding='same', activation='relu'),\n",
    "    keras.layers.MaxPooling2D(),\n",
    "    keras.layers.Conv2D(64, 5, padding='same', activation='relu'),\n",
    "    keras.layers.MaxPooling2D(),\n",
    "    keras.layers.Dropout(0.2),\n",
    "    keras.layers.Flatten(),\n",
    "    keras.layers.Dense(1024, activation='relu'),\n",
    "    keras.layers.Dense(1, activation='sigmoid')\n",
    "])\n",
    "\n",
    "model.summary()"
   ]
  },
  {
   "cell_type": "code",
   "execution_count": 9,
   "metadata": {},
   "outputs": [],
   "source": [
    "model.compile(optimizer='adam',\n",
    "              loss='binary_crossentropy',\n",
    "              metrics=['accuracy', \n",
    "                       keras.metrics.Precision(name='precision'),\n",
    "                       keras.metrics.Recall(name='recall'),\n",
    "                       keras.metrics.AUC(name='auc')])"
   ]
  },
  {
   "cell_type": "code",
   "execution_count": 10,
   "metadata": {},
   "outputs": [],
   "source": [
    "log_dir = \"logs/\" + datetime.datetime.now().strftime(\"%d.%m.%Y-%H%M%S\")\n",
    "tensorboard_callback = tf.keras.callbacks.TensorBoard(log_dir=log_dir, histogram_freq=1)"
   ]
  },
  {
   "cell_type": "code",
   "execution_count": 11,
   "metadata": {},
   "outputs": [
    {
     "name": "stdout",
     "output_type": "stream",
     "text": [
      "Epoch 1/15\n",
      "558/558 [==============================] - 39s 70ms/step - loss: 0.4474 - accuracy: 0.7852 - precision: 0.7726 - recall: 0.8079 - auc: 0.8693 - val_loss: 0.0000e+00 - val_accuracy: 0.0000e+00 - val_precision: 0.0000e+00 - val_recall: 0.0000e+00 - val_auc: 0.0000e+00\n",
      "Epoch 2/15\n",
      "558/558 [==============================] - 36s 65ms/step - loss: 0.3533 - accuracy: 0.8437 - precision: 0.8180 - recall: 0.8839 - auc: 0.9196 - val_loss: 0.3573 - val_accuracy: 0.8350 - val_precision: 0.8142 - val_recall: 0.8846 - val_auc: 0.9220\n",
      "Epoch 3/15\n",
      "558/558 [==============================] - 35s 64ms/step - loss: 0.3254 - accuracy: 0.8585 - precision: 0.8341 - recall: 0.8949 - auc: 0.9318 - val_loss: 0.3353 - val_accuracy: 0.8400 - val_precision: 0.7931 - val_recall: 0.9200 - val_auc: 0.9341\n",
      "Epoch 4/15\n",
      "558/558 [==============================] - 36s 64ms/step - loss: 0.3041 - accuracy: 0.8689 - precision: 0.8437 - recall: 0.9053 - auc: 0.9404 - val_loss: 0.3052 - val_accuracy: 0.8800 - val_precision: 0.8704 - val_recall: 0.9038 - val_auc: 0.9424\n",
      "Epoch 5/15\n",
      "558/558 [==============================] - 36s 65ms/step - loss: 0.2885 - accuracy: 0.8766 - precision: 0.8551 - recall: 0.9068 - auc: 0.9466 - val_loss: 0.2766 - val_accuracy: 0.8850 - val_precision: 0.8500 - val_recall: 0.9140 - val_auc: 0.9522\n",
      "Epoch 6/15\n",
      "558/558 [==============================] - 36s 65ms/step - loss: 0.2772 - accuracy: 0.8811 - precision: 0.8590 - recall: 0.9116 - auc: 0.9505 - val_loss: 0.2697 - val_accuracy: 0.8900 - val_precision: 0.8667 - val_recall: 0.9192 - val_auc: 0.9479\n",
      "Epoch 7/15\n",
      "558/558 [==============================] - 36s 64ms/step - loss: 0.2656 - accuracy: 0.8880 - precision: 0.8661 - recall: 0.9178 - auc: 0.9543 - val_loss: 0.2237 - val_accuracy: 0.9500 - val_precision: 0.9537 - val_recall: 0.9537 - val_auc: 0.9654\n",
      "Epoch 8/15\n",
      "558/558 [==============================] - 36s 65ms/step - loss: 0.2580 - accuracy: 0.8924 - precision: 0.8710 - recall: 0.9211 - auc: 0.9570 - val_loss: 0.2767 - val_accuracy: 0.8850 - val_precision: 0.8496 - val_recall: 0.9412 - val_auc: 0.9487\n",
      "Epoch 9/15\n",
      "558/558 [==============================] - 36s 65ms/step - loss: 0.2461 - accuracy: 0.8964 - precision: 0.8756 - recall: 0.9241 - auc: 0.9607 - val_loss: 0.2899 - val_accuracy: 0.8850 - val_precision: 0.8909 - val_recall: 0.8991 - val_auc: 0.9407\n",
      "Epoch 10/15\n",
      "558/558 [==============================] - 38s 69ms/step - loss: 0.2375 - accuracy: 0.9012 - precision: 0.8805 - recall: 0.9282 - auc: 0.9634 - val_loss: 0.2204 - val_accuracy: 0.8950 - val_precision: 0.8485 - val_recall: 0.9333 - val_auc: 0.9677\n",
      "Epoch 11/15\n",
      "558/558 [==============================] - 44s 80ms/step - loss: 0.2290 - accuracy: 0.9045 - precision: 0.8849 - recall: 0.9298 - auc: 0.9659 - val_loss: 0.2309 - val_accuracy: 0.9100 - val_precision: 0.8772 - val_recall: 0.9615 - val_auc: 0.9590\n",
      "Epoch 12/15\n",
      "558/558 [==============================] - 39s 70ms/step - loss: 0.2248 - accuracy: 0.9061 - precision: 0.8866 - recall: 0.9311 - auc: 0.9672 - val_loss: 0.2000 - val_accuracy: 0.9200 - val_precision: 0.8919 - val_recall: 0.9612 - val_auc: 0.9710\n",
      "Epoch 13/15\n",
      "558/558 [==============================] - 39s 70ms/step - loss: 0.2166 - accuracy: 0.9095 - precision: 0.8917 - recall: 0.9322 - auc: 0.9695 - val_loss: 0.2266 - val_accuracy: 0.9200 - val_precision: 0.8804 - val_recall: 0.9419 - val_auc: 0.9644\n",
      "Epoch 14/15\n",
      "558/558 [==============================] - 44s 79ms/step - loss: 0.2119 - accuracy: 0.9129 - precision: 0.8932 - recall: 0.9378 - auc: 0.9705 - val_loss: 0.2718 - val_accuracy: 0.8950 - val_precision: 0.8911 - val_recall: 0.9000 - val_auc: 0.9509\n",
      "Epoch 15/15\n",
      "558/558 [==============================] - 48s 87ms/step - loss: 0.2018 - accuracy: 0.9161 - precision: 0.8989 - recall: 0.9376 - auc: 0.9734 - val_loss: 0.2475 - val_accuracy: 0.9000 - val_precision: 0.8750 - val_recall: 0.9423 - val_auc: 0.9561\n"
     ]
    },
    {
     "data": {
      "text/plain": [
       "<tensorflow.python.keras.callbacks.History at 0x22e591278>"
      ]
     },
     "execution_count": 11,
     "metadata": {},
     "output_type": "execute_result"
    }
   ],
   "source": [
    "model.fit(\n",
    "    train_ds, \n",
    "    epochs=epochs, \n",
    "    validation_data=val_ds, \n",
    "    validation_steps=2,\n",
    "    callbacks=[tensorboard_callback]\n",
    ")"
   ]
  },
  {
   "cell_type": "markdown",
   "metadata": {},
   "source": [
    "**Evaluate the model**"
   ]
  },
  {
   "cell_type": "code",
   "execution_count": 12,
   "metadata": {},
   "outputs": [],
   "source": [
    "y_val_proba = model.predict_proba(X_val)"
   ]
  },
  {
   "cell_type": "code",
   "execution_count": 13,
   "metadata": {},
   "outputs": [],
   "source": [
    "threshold = 0.5\n",
    "y_val_pred = np.where(y_val_proba > threshold, 1, 0)"
   ]
  },
  {
   "cell_type": "code",
   "execution_count": 14,
   "metadata": {},
   "outputs": [
    {
     "name": "stdout",
     "output_type": "stream",
     "text": [
      "0.8761917733587579\n",
      "0.9212372905627954\n",
      "0.898150087260035\n"
     ]
    }
   ],
   "source": [
    "from sklearn.metrics import precision_score, recall_score, f1_score\n",
    "print(precision_score(y_val, y_val_pred))\n",
    "print(recall_score(y_val, y_val_pred))\n",
    "print(f1_score(y_val, y_val_pred))"
   ]
  },
  {
   "cell_type": "code",
   "execution_count": 15,
   "metadata": {},
   "outputs": [
    {
     "data": {
      "text/plain": [
       "array([[6036,  909],\n",
       "       [ 550, 6433]])"
      ]
     },
     "execution_count": 15,
     "metadata": {},
     "output_type": "execute_result"
    }
   ],
   "source": [
    "from sklearn.metrics import confusion_matrix\n",
    "\n",
    "confusion_matrix(y_val, y_val_pred)"
   ]
  },
  {
   "cell_type": "code",
   "execution_count": 16,
   "metadata": {},
   "outputs": [
    {
     "data": {
      "image/png": "[encoded data removed]",
      "text/plain": [
       "<Figure size 432x288 with 1 Axes>"
      ]
     },
     "metadata": {},
     "output_type": "display_data"
    }
   ],
   "source": [
    "from sklearn.metrics import roc_curve\n",
    "import seaborn as sns\n",
    "plt.style.use('seaborn-ticks')\n",
    "sns.set_style('ticks')\n",
    "plt.rcParams['figure.figsize'] = (6, 4)\n",
    "plt.rcParams['axes.titlesize'] = 20\n",
    "plt.rcParams['axes.labelsize'] = 20\n",
    "plt.rcParams['xtick.labelsize'] = 16\n",
    "plt.rcParams['ytick.labelsize'] = 16\n",
    "\n",
    "fpr, tpr, thresholds = roc_curve(y_val, y_val_proba)\n",
    "\n",
    "def plot_roc_curve(fpr, tpr, label=None):\n",
    "    plt.plot([0, 1], [0, 1], color='grey', linestyle='--')\n",
    "    sns.lineplot(x=fpr, y=tpr, estimator=None, color='cornflowerblue', linewidth=3, label=label)\n",
    "    plt.title(\"ROC curve\")\n",
    "    plt.xlabel('False Positive Rate')\n",
    "    plt.ylabel('True Posiitve Rate')\n",
    "    plt.xlim([-0.05, 1.05])\n",
    "    plt.ylim([-0.05, 1.05])\n",
    "    \n",
    "plot_roc_curve(fpr, tpr)\n",
    "\n",
    "plt.savefig('./results/ROC.png', bbox_inches='tight', dpi=300);"
   ]
  },
  {
   "cell_type": "markdown",
   "metadata": {},
   "source": [
    "**Make predictions on new data**"
   ]
  },
  {
   "cell_type": "code",
   "execution_count": 18,
   "metadata": {},
   "outputs": [],
   "source": [
    "filename = 'PE8_ROIs.csv'\n",
    "folder = 'plaineggED8/'\n",
    "name = 'egg46'\n",
    "region_size = 148\n",
    "X_test = load_patches.get_patches(filename, folder, patch_size, clip_limit, 'egg46')"
   ]
  },
  {
   "cell_type": "code",
   "execution_count": 19,
   "metadata": {},
   "outputs": [],
   "source": [
    "X_test = tf.cast(X_test, tf.float32)\n",
    "test_ds = tf.data.Dataset.from_tensor_slices((X_test))"
   ]
  },
  {
   "cell_type": "code",
   "execution_count": 20,
   "metadata": {},
   "outputs": [],
   "source": [
    "y_test_proba = model.predict_proba(X_test)"
   ]
  },
  {
   "cell_type": "code",
   "execution_count": 21,
   "metadata": {},
   "outputs": [],
   "source": [
    "threshold = 0.8\n",
    "y_test_pred = np.where(y_test_proba > threshold, 1, 0)"
   ]
  },
  {
   "cell_type": "code",
   "execution_count": 22,
   "metadata": {},
   "outputs": [
    {
     "data": {
      "image/png": "[encoded data removed]",
      "text/plain": [
       "<Figure size 432x288 with 1 Axes>"
      ]
     },
     "metadata": {},
     "output_type": "display_data"
    }
   ],
   "source": [
    "plt.imshow(y_test_pred.reshape([-1, region_size, region_size])[0], \n",
    "           cmap = plt.cm.gray, interpolation = \"nearest\");\n",
    "plt.axis('off');\n",
    "plt.savefig('./results/test1.png', bbox_inches='tight', dpi=300);"
   ]
  },
  {
   "cell_type": "code",
   "execution_count": 23,
   "metadata": {},
   "outputs": [
    {
     "data": {
      "image/png": "[encoded data removed]",
      "text/plain": [
       "<Figure size 432x288 with 1 Axes>"
      ]
     },
     "metadata": {},
     "output_type": "display_data"
    }
   ],
   "source": [
    "plt.imshow(y_test_pred.reshape([-1, region_size, region_size])[1], \n",
    "           cmap = plt.cm.gray, interpolation = \"nearest\");\n",
    "plt.axis('off');\n",
    "plt.savefig('./results/test2.png', bbox_inches='tight', dpi=300);"
   ]
  },
  {
   "cell_type": "code",
   "execution_count": 24,
   "metadata": {},
   "outputs": [
    {
     "data": {
      "image/png": "[encoded data removed]",
      "text/plain": [
       "<Figure size 432x288 with 1 Axes>"
      ]
     },
     "metadata": {},
     "output_type": "display_data"
    }
   ],
   "source": [
    "plt.imshow(y_test_pred.reshape([-1, region_size, region_size])[2], \n",
    "           cmap = plt.cm.gray, interpolation = \"nearest\");\n",
    "plt.axis('off');\n",
    "plt.savefig('./results/test3.png', bbox_inches='tight', dpi=300);"
   ]
  }
 ],
 "metadata": {
  "kernelspec": {
   "display_name": "Python 3",
   "language": "python",
   "name": "python3"
  },
  "language_info": {
   "codemirror_mode": {
    "name": "ipython",
    "version": 3
   },
   "file_extension": ".py",
   "mimetype": "text/x-python",
   "name": "python",
   "nbconvert_exporter": "python",
   "pygments_lexer": "ipython3",
   "version": "3.6.8"
  },
  "toc": {
   "base_numbering": 1,
   "nav_menu": {},
   "number_sections": true,
   "sideBar": true,
   "skip_h1_title": false,
   "title_cell": "Table of Contents",
   "title_sidebar": "Contents",
   "toc_cell": false,
   "toc_position": {},
   "toc_section_display": true,
   "toc_window_display": false
  }
 },
 "nbformat": 4,
 "nbformat_minor": 2
}
