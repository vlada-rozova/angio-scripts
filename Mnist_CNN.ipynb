{
 "cells": [
  {
   "cell_type": "code",
   "execution_count": null,
   "metadata": {},
   "outputs": [],
   "source": [
    "import os\n",
    "import pandas as pd\n",
    "import numpy as np\n",
    "import matplotlib.pyplot as plt\n",
    "\n",
    "def load_csv(filename):\n",
    "    csv_path = os.path.join(labels_path, filename)\n",
    "    return pd.read_csv(csv_path)"
   ]
  },
  {
   "cell_type": "code",
   "execution_count": null,
   "metadata": {},
   "outputs": [],
   "source": [
    "def extract_patches(roi, height, width, length):\n",
    "    #patches = np.zeros((length, patch_size, 3), dtype = np.float32)\n",
    "    patches = np.zeros((length, patch_size, patch_size, 3), dtype = np.float32)\n",
    "    patch_iter = 0\n",
    "    for i in range(0, height - patch_size + 1):\n",
    "        for j in range(0, width - patch_size + 1):\n",
    "            #patches[patch_iter : patch_iter + patch_size, :, :] = roi[i : i + patch_size, j : j + patch_size, :]\n",
    "            patches[patch_iter, :, :, :] = roi[i : i + patch_size, j : j + patch_size, :]\n",
    "            #patch_iter += patch_size\n",
    "            patch_iter += 1\n",
    "    return patches"
   ]
  },
  {
   "cell_type": "code",
   "execution_count": null,
   "metadata": {},
   "outputs": [],
   "source": [
    "def process_rois(filename, folder, count):\n",
    "    roi_data = load_csv(filename)\n",
    "    originals_folder = os.path.join(originals_path, folder)\n",
    "    labels_folder = os.path.join(labels_path, folder)\n",
    "    \n",
    "#     np.random.seed(42)\n",
    "#     roi_data = roi_data.iloc[np.random.permutation(len(roi_data))]\n",
    "\n",
    "    N_patches = sum((roi_data['height'] - patch_size + 1) \n",
    "                    * (roi_data['width'] - patch_size + 1))\n",
    "    rois = np.zeros((N_patches, patch_size, patch_size, 3), dtype = np.float32)\n",
    "    skeletons = np.zeros((N_patches, 1), dtype = np.float32)\n",
    "\n",
    "    roi_iter = 0\n",
    "    skelet_iter = 0\n",
    "    for index, row in roi_data.iterrows():\n",
    "        img = plt.imread(originals_folder + row['label'] + '.tif')\n",
    "        height = row['height']\n",
    "        width = row['width']\n",
    "        patches_per_roi = (height - patch_size + 1) * (width - patch_size + 1)\n",
    "        #length = patch_size * patches_per_roi\n",
    "        length = patches_per_roi\n",
    "#         rois[roi_iter : roi_iter + length, :, :] = extract_patches(img[row['ycoord'] :\n",
    "#                                                                        row['ycoord'] + height, \n",
    "#                                                                        row['xcoord'] : \n",
    "#                                                                        row['xcoord'] + width, :],\n",
    "#                                                                    height, width, length)\n",
    "        rois[roi_iter : roi_iter + length, :, :, :] = extract_patches(img[row['ycoord'] :\n",
    "                                                                       row['ycoord'] + height, \n",
    "                                                                       row['xcoord'] : \n",
    "                                                                       row['xcoord'] + width, :],\n",
    "                                                                   height, width, length)\n",
    "        roi_iter += length\n",
    "        \n",
    "        img = plt.imread(labels_folder + row['label'] + '_' + str(row['sample']) + '_' + 'skeletone.jpg')\n",
    "        img_grey = np.dot(img[...,:3], [0.299, 0.587, 0.114])\n",
    "        skeletons[skelet_iter : skelet_iter + patches_per_roi] = img_grey[d : height - d, \n",
    "                                                                          d : width - d].reshape(-1, 1)\n",
    "\n",
    "        skelet_iter += patches_per_roi\n",
    "        \n",
    "    labels[count : count + N_patches] = skeletons\n",
    "    #originals[count * patch_size : count * patch_size + N_patches * patch_size, :, :] = rois\n",
    "    originals[count : count + N_patches, :, :, :] = rois\n",
    "    count += N_patches\n",
    "    return originals, labels, count\n",
    "\n"
   ]
  },
  {
   "cell_type": "markdown",
   "metadata": {},
   "source": [
    "## Load the data, extract originals and labels"
   ]
  },
  {
   "cell_type": "code",
   "execution_count": null,
   "metadata": {},
   "outputs": [],
   "source": [
    "import os\n",
    "import pandas as pd\n",
    "import numpy as np\n",
    "import matplotlib.pyplot as plt\n",
    "import time\n",
    "import load_data\n",
    "start_time = time.time()\n",
    "\n",
    "originals, labels, count = load_data.process_rois('CS8_ROIs.csv', 'cellsuspensionED8/', 0)\n",
    "print('count = ', count)\n",
    "\n",
    "print(\"--- %s seconds ---\" % (time.time() - start_time))\n",
    "\n"
   ]
  },
  {
   "cell_type": "code",
   "execution_count": null,
   "metadata": {},
   "outputs": [],
   "source": [
    "labels = labels[:count, :]\n",
    "print('labels shape: ', labels.shape)\n",
    "#originals = originals[:count * patch_size, :, :]\n",
    "originals = originals[: count, :, :, :]\n",
    "print('originals shape: ', originals.shape)"
   ]
  },
  {
   "cell_type": "code",
   "execution_count": null,
   "metadata": {},
   "outputs": [],
   "source": [
    "i = 0\n",
    "plt.figure(figsize=(15, 10))\n",
    "plt.subplot(141)\n",
    "plt.imshow(originals[i, :, :, 1], cmap = plt.cm.gray, interpolation = \"nearest\")\n",
    "plt.subplot(142)\n",
    "plt.imshow(originals[i+1, :, :, 1], cmap = plt.cm.gray, interpolation = \"nearest\")\n",
    "plt.subplot(143)\n",
    "plt.imshow(originals[i+2, :, :, 1], cmap = plt.cm.gray, interpolation = \"nearest\")\n",
    "plt.subplot(144)\n",
    "plt.imshow(originals[i+3, :, :, 1], cmap = plt.cm.gray, interpolation = \"nearest\")\n",
    "\n",
    "plt.figure(figsize=(15, 10))\n",
    "plt.subplot(141)\n",
    "plt.imshow(originals[i+4, :, :, 1], cmap = plt.cm.gray, interpolation = \"nearest\")\n",
    "plt.subplot(142)\n",
    "plt.imshow(originals[i+5, :, :, 1], cmap = plt.cm.gray, interpolation = \"nearest\")\n",
    "plt.subplot(143)\n",
    "plt.imshow(originals[i+6, :, :, 1], cmap = plt.cm.gray, interpolation = \"nearest\")\n",
    "plt.subplot(144)\n",
    "plt.imshow(originals[i+7, :, :, 1], cmap = plt.cm.gray, interpolation = \"nearest\")\n",
    "plt.show()\n",
    "print(originals[i:i+8, 11, 11, 1])\n",
    "labels[i:i+8]"
   ]
  },
  {
   "cell_type": "code",
   "execution_count": null,
   "metadata": {},
   "outputs": [],
   "source": [
    "i = 2000\n",
    "plt.figure(figsize=(15, 10))\n",
    "plt.subplot(141)\n",
    "plt.imshow(originals[i, :, :, 1], cmap = plt.cm.gray, interpolation = \"nearest\")\n",
    "plt.subplot(142)\n",
    "plt.imshow(originals[i+1, :, :, 1], cmap = plt.cm.gray, interpolation = \"nearest\")\n",
    "plt.subplot(143)\n",
    "plt.imshow(originals[i+2, :, :, 1], cmap = plt.cm.gray, interpolation = \"nearest\")\n",
    "plt.subplot(144)\n",
    "plt.imshow(originals[i+3, :, :, 1], cmap = plt.cm.gray, interpolation = \"nearest\")\n",
    "\n",
    "plt.figure(figsize=(15, 10))\n",
    "plt.subplot(141)\n",
    "plt.imshow(originals[i+4, :, :, 1], cmap = plt.cm.gray, interpolation = \"nearest\")\n",
    "plt.subplot(142)\n",
    "plt.imshow(originals[i+5, :, :, 1], cmap = plt.cm.gray, interpolation = \"nearest\")\n",
    "plt.subplot(143)\n",
    "plt.imshow(originals[i+6, :, :, 1], cmap = plt.cm.gray, interpolation = \"nearest\")\n",
    "plt.subplot(144)\n",
    "plt.imshow(originals[i+7, :, :, 1], cmap = plt.cm.gray, interpolation = \"nearest\")\n",
    "plt.show()\n",
    "print(originals[i:i+8, 11, 11, 1])\n",
    "labels[i:i+8]"
   ]
  },
  {
   "cell_type": "markdown",
   "metadata": {},
   "source": [
    "## Evaluate the data"
   ]
  },
  {
   "cell_type": "code",
   "execution_count": null,
   "metadata": {
    "scrolled": true
   },
   "outputs": [],
   "source": [
    "plt.hist(labels, bins = 255)\n",
    "plt.show()"
   ]
  },
  {
   "cell_type": "code",
   "execution_count": null,
   "metadata": {
    "scrolled": true
   },
   "outputs": [],
   "source": [
    "# Create binary labels\n",
    "# TRUE if it's a vessel, otherwise FALSE\n",
    "binary_labels = 1 * (labels < 128) + 0 * (labels >= 128)\n",
    "print(binary_labels.shape)\n",
    "print(binary_labels[:8])\n",
    "plt.hist(binary_labels, bins = 2)\n",
    "plt.show()"
   ]
  },
  {
   "cell_type": "code",
   "execution_count": null,
   "metadata": {},
   "outputs": [],
   "source": [
    "#n_neg = int(sum(binary_labels[:, 1]))\n",
    "n_pos = int(sum(binary_labels))\n",
    "n_neg = count - n_pos\n",
    "print('Number of negative samples: ', n_neg)\n",
    "print('Number of positive samples: ', n_pos)\n",
    "print('Fraction of positive samples: ', n_pos / count * 100, '%')\n",
    "new_ratio = 1\n",
    "n_neg_new = int(new_ratio * n_pos)\n",
    "print('Need to randomly choose ', n_neg_new, ' negative samples to make it', new_ratio, ': 1')"
   ]
  },
  {
   "cell_type": "markdown",
   "metadata": {},
   "source": [
    "## Reduce the number of negative samples"
   ]
  },
  {
   "cell_type": "code",
   "execution_count": null,
   "metadata": {},
   "outputs": [],
   "source": [
    "#neg_indeces = (np.where(binary_labels[:, 1] == 1))[0]\n",
    "neg_indeces = (np.where(binary_labels == 0))[0]\n",
    "np.random.shuffle(neg_indeces)\n",
    "neg_indeces_new = neg_indeces[:n_neg_new]"
   ]
  },
  {
   "cell_type": "markdown",
   "metadata": {},
   "source": [
    "## Create stratified training and test sets"
   ]
  },
  {
   "cell_type": "code",
   "execution_count": null,
   "metadata": {},
   "outputs": [],
   "source": [
    "train_ratio = 0.8\n",
    "n_samples = n_pos + n_neg_new\n",
    "\n",
    "print(n_samples, n_pos, n_neg_new)\n",
    "print('train: ', round(train_ratio * n_samples), ', test: ', round((1 - train_ratio) * n_samples))\n",
    "print('Positive. y_train: ', round(train_ratio * n_pos), ', y_test: ', round((1 - train_ratio) * n_pos))\n",
    "print('Negative. y_train: ', round(train_ratio * n_neg_new), ', y_test: ', round((1 - train_ratio) * n_neg_new))"
   ]
  },
  {
   "cell_type": "code",
   "execution_count": null,
   "metadata": {},
   "outputs": [],
   "source": [
    "#pos_indeces = (np.where(binary_labels[:, 0] == 1))[0]\n",
    "pos_indeces = (np.where(binary_labels == 1))[0]\n",
    "np.random.shuffle(pos_indeces)\n",
    "pos_indeces_train = pos_indeces[:round(train_ratio * n_pos)]\n",
    "pos_indeces_test = pos_indeces[round(train_ratio * n_pos):]\n",
    "\n",
    "neg_indeces_train = neg_indeces_new[:round(train_ratio * n_neg_new)]\n",
    "neg_indeces_test = neg_indeces_new[round(train_ratio * n_neg_new):]"
   ]
  },
  {
   "cell_type": "code",
   "execution_count": null,
   "metadata": {},
   "outputs": [],
   "source": [
    "train_indeces = np.append(pos_indeces_train, neg_indeces_train, axis=0)\n",
    "np.random.shuffle(train_indeces)\n",
    "X_train = originals[train_indeces, :, :, :]\n",
    "#y_train = labels[train_indeces]\n",
    "y_train = binary_labels[train_indeces]\n",
    "\n",
    "test_indeces = np.append(pos_indeces_test, neg_indeces_test, axis = 0)\n",
    "np.random.shuffle(test_indeces)\n",
    "X_test = originals[test_indeces, :, :, :]\n",
    "#y_test = labels[test_indeces]\n",
    "y_test = binary_labels[test_indeces]\n",
    "\n",
    "print(X_train.shape, y_train.shape)\n",
    "print(X_test.shape, y_test.shape)\n",
    "X_train.dtype"
   ]
  },
  {
   "cell_type": "code",
   "execution_count": null,
   "metadata": {},
   "outputs": [],
   "source": [
    "X_train_small = X_train[:100, :, :, :]\n",
    "y_train_small = y_train[:100, :]\n",
    "print(X_train_small.shape, y_train_small.shape)\n",
    "print(y_train_small.sum())"
   ]
  },
  {
   "cell_type": "markdown",
   "metadata": {},
   "source": [
    "## CNN"
   ]
  },
  {
   "cell_type": "code",
   "execution_count": 4,
   "metadata": {},
   "outputs": [],
   "source": [
    "def cnn_model_fn(features, labels, mode):\n",
    "    \"\"\"Model function for CNN.\"\"\"\n",
    "    # Input Layer\n",
    "    # Reshape X to 4-D tensor: [batch_size, width, height, channels]\n",
    "    # Angio images are 23x23 pixels, and have three color channels\n",
    "    input_layer = tf.reshape(features[\"x\"], [-1, 23, 23, 3])\n",
    "    print('input_layer: ', input_layer.shape)\n",
    "    \n",
    "    # Convolutional Layer #1\n",
    "    # Computes 32 features using a 5x5 filter with ReLU activation.\n",
    "    # Padding is added to preserve width and height.\n",
    "    # Input Tensor Shape: [batch_size, 23, 23, 1]\n",
    "    # Output Tensor Shape: [batch_size, 23, 23, 32]\n",
    "    conv1 = tf.layers.conv2d(\n",
    "        inputs=input_layer,\n",
    "        filters=32,\n",
    "        kernel_size=[5, 5],\n",
    "        padding=\"same\",\n",
    "        activation=tf.nn.relu)\n",
    "    print('conv1: ', conv1.shape)\n",
    "\n",
    "    # Pooling Layer #1\n",
    "    # First max pooling layer with a 2x2 filter and stride of 2\n",
    "    # Input Tensor Shape: [batch_size, 23, 23, 32]\n",
    "    # Output Tensor Shape: [batch_size, 11, 11, 32]\n",
    "    pool1 = tf.layers.max_pooling2d(inputs=conv1, pool_size=[2, 2], strides=2)\n",
    "    print('pool1: ', pool1.shape)\n",
    "\n",
    "  # Convolutional Layer #2\n",
    "  # Computes 64 features using a 5x5 filter.\n",
    "  # Padding is added to preserve width and height.\n",
    "  # Input Tensor Shape: [batch_size, 11, 11, 32]\n",
    "  # Output Tensor Shape: [batch_size, 11, 11, 64]\n",
    "    conv2 = tf.layers.conv2d(\n",
    "        inputs=pool1,\n",
    "        filters=64,\n",
    "        kernel_size=[5, 5],\n",
    "        padding=\"same\",\n",
    "        activation=tf.nn.relu)\n",
    "    print('conv2: ', conv2.shape)\n",
    "\n",
    "  # Pooling Layer #2\n",
    "  # Second max pooling layer with a 2x2 filter and stride of 2\n",
    "  # Input Tensor Shape: [batch_size, 11, 11, 64]\n",
    "  # Output Tensor Shape: [batch_size, 5, 5, 64]\n",
    "    pool2 = tf.layers.max_pooling2d(inputs=conv2, pool_size=[2, 2], strides=2)\n",
    "    print('pool2: ', pool2.shape)\n",
    "\n",
    "  # Flatten tensor into a batch of vectors\n",
    "  # Input Tensor Shape: [batch_size, 5, 5, 64]\n",
    "  # Output Tensor Shape: [batch_size, 5 * 5 * 64]\n",
    "    pool2_flat = tf.reshape(pool2, [-1, 5 * 5 * 64])\n",
    "    print('pool2_flat: ', pool2_flat.shape)\n",
    "\n",
    "  # Dense Layer\n",
    "  # Densely connected layer with 1024 neurons\n",
    "  # Input Tensor Shape: [batch_size, 5 * 5 * 64]\n",
    "  # Output Tensor Shape: [batch_size, 1024]\n",
    "    dense = tf.layers.dense(inputs=pool2_flat, units=1024, activation=tf.nn.relu)\n",
    "\n",
    "  # Add dropout operation; 0.6 probability that element will be kept\n",
    "    dropout = tf.layers.dropout(\n",
    "        inputs=dense, rate=0.4, training=mode == tf.estimator.ModeKeys.TRAIN)\n",
    "\n",
    "  # Logits layer\n",
    "  # Input Tensor Shape: [batch_size, 1024]\n",
    "  # Output Tensor Shape: [batch_size, 2]\n",
    "    logits = tf.layers.dense(inputs=dropout, units=2)\n",
    "\n",
    "    predictions = {\n",
    "      # Generate predictions (for PREDICT and EVAL mode)\n",
    "        \"classes\": tf.argmax(input=logits, axis=1),\n",
    "      # Add `softmax_tensor` to the graph. It is used for PREDICT and by the\n",
    "      # `logging_hook`.\n",
    "        \"probabilities\": tf.nn.softmax(logits, name=\"softmax_tensor\")\n",
    "    }\n",
    "    if mode == tf.estimator.ModeKeys.PREDICT:\n",
    "        return tf.estimator.EstimatorSpec(mode=mode, predictions=predictions)\n",
    "\n",
    "  # Calculate Loss (for both TRAIN and EVAL modes)\n",
    "    loss = tf.losses.sparse_softmax_cross_entropy(labels=labels, logits=logits)\n",
    "\n",
    "  # Configure the Training Op (for TRAIN mode)\n",
    "    if mode == tf.estimator.ModeKeys.TRAIN:\n",
    "        optimizer = tf.train.GradientDescentOptimizer(learning_rate=0.001)\n",
    "        train_op = optimizer.minimize(\n",
    "            loss=loss,\n",
    "            global_step=tf.train.get_global_step())\n",
    "        return tf.estimator.EstimatorSpec(mode=mode, loss=loss, train_op=train_op)\n",
    "\n",
    "  # Add evaluation metrics (for EVAL mode)\n",
    "    eval_metric_ops = {\n",
    "        \"accuracy\": tf.metrics.accuracy(\n",
    "            labels = labels, predictions=predictions[\"classes\"]),\n",
    "        \"precision\": tf.metrics.precision(\n",
    "            labels = labels, predictions = predictions[\"classes\"]),\n",
    "        \"recall\": tf.metrics.recall(\n",
    "            labels = labels, predictions = predictions[\"classes\"])}\n",
    "    return tf.estimator.EstimatorSpec(\n",
    "        mode=mode, loss=loss, eval_metric_ops=eval_metric_ops)    "
   ]
  },
  {
   "cell_type": "markdown",
   "metadata": {},
   "source": [
    "## Train the model"
   ]
  },
  {
   "cell_type": "code",
   "execution_count": 1,
   "metadata": {},
   "outputs": [],
   "source": [
    "import tensorflow as tf\n",
    "import os\n",
    "import pandas as pd\n",
    "import numpy as np\n",
    "import matplotlib.pyplot as plt"
   ]
  },
  {
   "cell_type": "code",
   "execution_count": null,
   "metadata": {},
   "outputs": [],
   "source": [
    "# Load training and eval data\n",
    "mnist = tf.contrib.learn.datasets.load_dataset(\"mnist\")\n",
    "train_data = mnist.train.images  # Returns np.array\n",
    "train_labels = np.asarray(mnist.train.labels, dtype=np.int32)\n",
    "eval_data = mnist.test.images  # Returns np.array\n",
    "eval_labels = np.asarray(mnist.test.labels, dtype=np.int32)"
   ]
  },
  {
   "cell_type": "code",
   "execution_count": 2,
   "metadata": {},
   "outputs": [
    {
     "name": "stdout",
     "output_type": "stream",
     "text": [
      "count =  883402\n",
      "--- 16.668571949005127 seconds ---\n",
      "labels shape:  (883402, 1)\n",
      "originals shape:  (883402, 23, 23, 3)\n"
     ]
    },
    {
     "data": {
      "image/png": "[encoded data removed]",
      "text/plain": [
       "<matplotlib.figure.Figure at 0x1abb2346d8>"
      ]
     },
     "metadata": {},
     "output_type": "display_data"
    },
    {
     "data": {
      "image/png": "[encoded data removed]",
      "text/plain": [
       "<matplotlib.figure.Figure at 0x196c518518>"
      ]
     },
     "metadata": {},
     "output_type": "display_data"
    },
    {
     "name": "stdout",
     "output_type": "stream",
     "text": [
      "[150. 151. 150. 148. 149. 151. 154. 155.]\n"
     ]
    },
    {
     "data": {
      "image/png": "[encoded data removed]",
      "text/plain": [
       "<matplotlib.figure.Figure at 0x196c6e7e80>"
      ]
     },
     "metadata": {},
     "output_type": "display_data"
    },
    {
     "data": {
      "image/png": "[encoded data removed]",
      "text/plain": [
       "<matplotlib.figure.Figure at 0x196c80d160>"
      ]
     },
     "metadata": {},
     "output_type": "display_data"
    },
    {
     "name": "stdout",
     "output_type": "stream",
     "text": [
      "[154. 147. 140. 138. 141. 145. 146. 148.]\n"
     ]
    },
    {
     "data": {
      "image/png": "[encoded data removed]",
      "text/plain": [
       "<matplotlib.figure.Figure at 0x1abacbda90>"
      ]
     },
     "metadata": {},
     "output_type": "display_data"
    },
    {
     "name": "stdout",
     "output_type": "stream",
     "text": [
      "(883402, 1)\n",
      "[[0]\n",
      " [0]\n",
      " [0]\n",
      " [1]\n",
      " [0]\n",
      " [0]\n",
      " [0]\n",
      " [0]]\n"
     ]
    },
    {
     "data": {
      "image/png": "[encoded data removed]",
      "text/plain": [
       "<matplotlib.figure.Figure at 0x196c6af780>"
      ]
     },
     "metadata": {},
     "output_type": "display_data"
    },
    {
     "name": "stdout",
     "output_type": "stream",
     "text": [
      "Number of negative samples:  848583\n",
      "Number of positive samples:  34819\n",
      "Fraction of positive samples:  3.941467191606992 %\n",
      "Need to randomly choose  34819  negative samples to make it 1 : 1\n",
      "69638 34819 34819\n",
      "train:  55710 , test:  13928\n",
      "Positive. y_train:  27855 , y_test:  6964\n",
      "Negative. y_train:  27855 , y_test:  6964\n",
      "(55710, 23, 23, 3) (55710, 1)\n",
      "(13928, 23, 23, 3) (13928, 1)\n",
      "(100, 23, 23, 3) (100, 1)\n",
      "48\n"
     ]
    }
   ],
   "source": [
    "# Load angio data\n",
    "%run angio_data.ipynb"
   ]
  },
  {
   "cell_type": "code",
   "execution_count": 5,
   "metadata": {
    "scrolled": true
   },
   "outputs": [
    {
     "name": "stdout",
     "output_type": "stream",
     "text": [
      "INFO:tensorflow:Using default config.\n",
      "INFO:tensorflow:Using config: {'_model_dir': '/tmp/angio_convnet_model', '_tf_random_seed': None, '_save_summary_steps': 100, '_save_checkpoints_steps': None, '_save_checkpoints_secs': 600, '_session_config': None, '_keep_checkpoint_max': 5, '_keep_checkpoint_every_n_hours': 10000, '_log_step_count_steps': 100, '_service': None, '_cluster_spec': <tensorflow.python.training.server_lib.ClusterSpec object at 0x19890cd160>, '_task_type': 'worker', '_task_id': 0, '_global_id_in_cluster': 0, '_master': '', '_evaluation_master': '', '_is_chief': True, '_num_ps_replicas': 0, '_num_worker_replicas': 1}\n",
      "INFO:tensorflow:Calling model_fn.\n",
      "input_layer:  (100, 23, 23, 3)\n",
      "conv1:  (100, 23, 23, 32)\n",
      "pool1:  (100, 11, 11, 32)\n",
      "conv2:  (100, 11, 11, 64)\n",
      "pool2:  (100, 5, 5, 64)\n",
      "pool2_flat:  (100, 1600)\n",
      "INFO:tensorflow:Done calling model_fn.\n",
      "INFO:tensorflow:Create CheckpointSaverHook.\n",
      "INFO:tensorflow:Graph was finalized.\n",
      "INFO:tensorflow:Running local_init_op.\n",
      "INFO:tensorflow:Done running local_init_op.\n",
      "INFO:tensorflow:Saving checkpoints for 1 into /tmp/angio_convnet_model/model.ckpt.\n",
      "INFO:tensorflow:probabilities = [[0.92927086 0.07072915]\n",
      " [0.9999999  0.00000008]\n",
      " [0.         1.        ]\n",
      " [0.0014979  0.99850214]\n",
      " [0.99786454 0.00213552]\n",
      " [1.         0.        ]\n",
      " [0.9999037  0.00009632]\n",
      " [0.01228579 0.9877142 ]\n",
      " [0.00112851 0.9988715 ]\n",
      " [0.99958104 0.000419  ]\n",
      " [0.0027321  0.99726796]\n",
      " [0.00252178 0.9974782 ]\n",
      " [0.9999989  0.00000109]\n",
      " [0.9999758  0.00002415]\n",
      " [0.         1.        ]\n",
      " [0.99268144 0.00731857]\n",
      " [0.00001232 0.9999877 ]\n",
      " [1.         0.        ]\n",
      " [0.40633577 0.5936643 ]\n",
      " [0.99998975 0.00001022]\n",
      " [1.         0.        ]\n",
      " [0.9999304  0.00006955]\n",
      " [0.9999969  0.00000307]\n",
      " [0.9996145  0.00038548]\n",
      " [0.9999999  0.00000009]\n",
      " [0.00011814 0.99988186]\n",
      " [0.00154853 0.9984515 ]\n",
      " [0.05874364 0.9412563 ]\n",
      " [0.874257   0.12574296]\n",
      " [0.88329995 0.11669997]\n",
      " [1.         0.00000002]\n",
      " [0.99996006 0.00003997]\n",
      " [0.99021834 0.0097816 ]\n",
      " [0.99999857 0.00000141]\n",
      " [0.00000001 1.        ]\n",
      " [0.00001575 0.99998426]\n",
      " [0.99793124 0.00206875]\n",
      " [0.9999926  0.00000744]\n",
      " [0.00001837 0.99998164]\n",
      " [0.         1.        ]\n",
      " [0.         1.        ]\n",
      " [0.99999785 0.00000218]\n",
      " [0.99959475 0.00040524]\n",
      " [0.         1.        ]\n",
      " [0.9999877  0.00001223]\n",
      " [0.         1.        ]\n",
      " [0.9999987  0.00000135]\n",
      " [0.53519344 0.46480656]\n",
      " [0.9999987  0.0000013 ]\n",
      " [0.00000448 0.99999547]\n",
      " [1.         0.00000001]\n",
      " [0.00000812 0.9999919 ]\n",
      " [0.00000002 1.        ]\n",
      " [1.         0.        ]\n",
      " [0.99999285 0.00000716]\n",
      " [0.01600792 0.98399204]\n",
      " [0.         1.        ]\n",
      " [0.99967897 0.00032106]\n",
      " [1.         0.        ]\n",
      " [0.0000132  0.99998677]\n",
      " [1.         0.        ]\n",
      " [0.         1.        ]\n",
      " [0.9833341  0.01666588]\n",
      " [1.         0.        ]\n",
      " [0.0136722  0.9863279 ]\n",
      " [0.00042582 0.9995741 ]\n",
      " [0.75745434 0.24254575]\n",
      " [0.52528787 0.47471216]\n",
      " [0.99999976 0.00000021]\n",
      " [0.00441514 0.99558485]\n",
      " [0.51777613 0.48222384]\n",
      " [0.9999999  0.00000007]\n",
      " [1.         0.        ]\n",
      " [0.         1.        ]\n",
      " [0.99999917 0.00000085]\n",
      " [0.9880266  0.01197331]\n",
      " [0.9993063  0.00069372]\n",
      " [0.99995923 0.00004082]\n",
      " [0.2519172  0.7480828 ]\n",
      " [1.         0.        ]\n",
      " [0.         1.        ]\n",
      " [0.00292367 0.9970764 ]\n",
      " [1.         0.        ]\n",
      " [1.         0.        ]\n",
      " [0.00000974 0.9999902 ]\n",
      " [0.         1.        ]\n",
      " [1.         0.        ]\n",
      " [0.00000171 0.99999833]\n",
      " [0.9874418  0.01255828]\n",
      " [0.         1.        ]\n",
      " [0.95765877 0.0423412 ]\n",
      " [0.0001599  0.99984   ]\n",
      " [0.99970347 0.00029655]\n",
      " [0.         1.        ]\n",
      " [0.7845552  0.21544477]\n",
      " [1.         0.        ]\n",
      " [0.         1.        ]\n",
      " [0.29003942 0.7099606 ]\n",
      " [1.         0.        ]\n",
      " [0.01186183 0.98813814]]\n",
      "INFO:tensorflow:loss = 7.8487554, step = 1\n",
      "INFO:tensorflow:global_step/sec: 7.8475\n",
      "INFO:tensorflow:loss = 0.67757547, step = 101 (12.741 sec)\n",
      "INFO:tensorflow:global_step/sec: 8.47276\n",
      "INFO:tensorflow:loss = 0.74614555, step = 201 (11.802 sec)\n",
      "INFO:tensorflow:global_step/sec: 8.99016\n",
      "INFO:tensorflow:loss = 0.59310794, step = 301 (11.123 sec)\n",
      "INFO:tensorflow:global_step/sec: 9.01935\n",
      "INFO:tensorflow:loss = 0.57132334, step = 401 (11.087 sec)\n",
      "INFO:tensorflow:global_step/sec: 9.00791\n",
      "INFO:tensorflow:probabilities = [[0.7412553  0.25874475]\n",
      " [0.6736299  0.32637006]\n",
      " [0.5874021  0.41259786]\n",
      " [0.6539947  0.34600535]\n",
      " [0.6934349  0.30656517]\n",
      " [0.26490608 0.7350939 ]\n",
      " [0.69084287 0.30915707]\n",
      " [0.6210903  0.3789097 ]\n",
      " [0.6325809  0.36741918]\n",
      " [0.71825236 0.28174764]\n",
      " [0.433407   0.566593  ]\n",
      " [0.15761662 0.8423834 ]\n",
      " [0.54367375 0.45632622]\n",
      " [0.7936557  0.2063443 ]\n",
      " [0.30075687 0.6992431 ]\n",
      " [0.36104816 0.63895184]\n",
      " [0.4211162  0.57888377]\n",
      " [0.84690315 0.15309685]\n",
      " [0.6876612  0.3123389 ]\n",
      " [0.4618996  0.5381004 ]\n",
      " [0.6077513  0.39224875]\n",
      " [0.85571045 0.14428955]\n",
      " [0.7302374  0.26976258]\n",
      " [0.37353638 0.6264636 ]\n",
      " [0.6185478  0.3814522 ]\n",
      " [0.7936831  0.20631695]\n",
      " [0.56168413 0.43831584]\n",
      " [0.4127737  0.58722633]\n",
      " [0.49205792 0.507942  ]\n",
      " [0.6196029  0.38039705]\n",
      " [0.3125232  0.68747675]\n",
      " [0.55334467 0.44665527]\n",
      " [0.31150913 0.6884908 ]\n",
      " [0.39749327 0.60250676]\n",
      " [0.5657678  0.43423215]\n",
      " [0.5112377  0.4887623 ]\n",
      " [0.40105668 0.59894335]\n",
      " [0.48796695 0.51203305]\n",
      " [0.7049107  0.29508927]\n",
      " [0.41012993 0.58987015]\n",
      " [0.72556174 0.27443832]\n",
      " [0.51730424 0.48269576]\n",
      " [0.524928   0.475072  ]\n",
      " [0.7936887  0.20631126]\n",
      " [0.4729384  0.52706164]\n",
      " [0.5090358  0.49096417]\n",
      " [0.46504074 0.5349593 ]\n",
      " [0.6338524  0.36614767]\n",
      " [0.24930277 0.75069726]\n",
      " [0.6129156  0.38708436]\n",
      " [0.50114864 0.49885133]\n",
      " [0.62857795 0.37142205]\n",
      " [0.40506887 0.59493107]\n",
      " [0.6259684  0.3740316 ]\n",
      " [0.56537145 0.43462855]\n",
      " [0.3886787  0.6113213 ]\n",
      " [0.45474735 0.5452527 ]\n",
      " [0.7893541  0.21064593]\n",
      " [0.34419954 0.6558004 ]\n",
      " [0.55922586 0.44077417]\n",
      " [0.2828709  0.7171291 ]\n",
      " [0.24942958 0.7505705 ]\n",
      " [0.5394622  0.46053782]\n",
      " [0.39618573 0.60381424]\n",
      " [0.6963625  0.30363756]\n",
      " [0.41400778 0.5859922 ]\n",
      " [0.5263533  0.4736467 ]\n",
      " [0.40370375 0.5962963 ]\n",
      " [0.5036428  0.49635723]\n",
      " [0.57473326 0.42526677]\n",
      " [0.37837386 0.6216261 ]\n",
      " [0.5599406  0.44005942]\n",
      " [0.62656504 0.37343502]\n",
      " [0.4250533  0.5749467 ]\n",
      " [0.76284254 0.23715745]\n",
      " [0.85423857 0.14576146]\n",
      " [0.35435447 0.64564556]\n",
      " [0.6339036  0.36609635]\n",
      " [0.6835125  0.3164875 ]\n",
      " [0.56874496 0.431255  ]\n",
      " [0.37931702 0.62068295]\n",
      " [0.32970065 0.6702994 ]\n",
      " [0.52177894 0.478221  ]\n",
      " [0.49641436 0.50358564]\n",
      " [0.5002654  0.49973458]\n",
      " [0.46412972 0.5358703 ]\n",
      " [0.23618254 0.7638175 ]\n",
      " [0.4032016  0.5967984 ]\n",
      " [0.47788185 0.52211815]\n",
      " [0.31683737 0.6831626 ]\n",
      " [0.78911245 0.21088752]\n",
      " [0.6909551  0.30904496]\n",
      " [0.5562253  0.44377476]\n",
      " [0.72519875 0.27480128]\n",
      " [0.15830246 0.8416976 ]\n",
      " [0.4625462  0.5374537 ]\n",
      " [0.17072652 0.82927346]\n",
      " [0.70402384 0.29597616]\n",
      " [0.6810157  0.31898436]\n",
      " [0.70846224 0.29153782]] (57.859 sec)\n",
      "INFO:tensorflow:loss = 0.60021883, step = 501 (11.105 sec)\n",
      "INFO:tensorflow:global_step/sec: 8.96362\n",
      "INFO:tensorflow:loss = 0.5661926, step = 601 (11.153 sec)\n",
      "INFO:tensorflow:global_step/sec: 8.90157\n",
      "INFO:tensorflow:loss = 0.5128369, step = 701 (11.234 sec)\n",
      "INFO:tensorflow:global_step/sec: 8.86317\n",
      "INFO:tensorflow:loss = 0.475859, step = 801 (11.283 sec)\n",
      "INFO:tensorflow:global_step/sec: 8.82333\n",
      "INFO:tensorflow:loss = 0.47412738, step = 901 (11.333 sec)\n",
      "INFO:tensorflow:Saving checkpoints for 1000 into /tmp/angio_convnet_model/model.ckpt.\n",
      "INFO:tensorflow:Loss for final step: 0.4342758.\n"
     ]
    },
    {
     "data": {
      "text/plain": [
       "<tensorflow.python.estimator.estimator.Estimator at 0x19890cde10>"
      ]
     },
     "execution_count": 5,
     "metadata": {},
     "output_type": "execute_result"
    }
   ],
   "source": [
    "# Create the Estimator\n",
    "mnist_classifier = tf.estimator.Estimator(\n",
    "    model_fn=cnn_model_fn, model_dir=\"/tmp/angio_convnet_model\")\n",
    "\n",
    "# Set up logging for predictions\n",
    "# Log the values in the \"Softmax\" tensor with label \"probabilities\"\n",
    "tensors_to_log = {\"probabilities\": \"softmax_tensor\"}\n",
    "logging_hook = tf.train.LoggingTensorHook(\n",
    "    tensors=tensors_to_log, every_n_iter=500)\n",
    "\n",
    "# Train the model\n",
    "train_input_fn = tf.estimator.inputs.numpy_input_fn(\n",
    "    x={\"x\": X_train_small},\n",
    "    y=y_train_small,\n",
    "    #x={\"x\": train_data},\n",
    "    #y=train_labels,\n",
    "    batch_size=100,\n",
    "    num_epochs=None,\n",
    "    shuffle=True)\n",
    "mnist_classifier.train(\n",
    "    input_fn=train_input_fn,\n",
    "    steps=1000,\n",
    "    hooks=[logging_hook])"
   ]
  },
  {
   "cell_type": "code",
   "execution_count": null,
   "metadata": {},
   "outputs": [],
   "source": [
    "# Evaluate the model and print results\n",
    "eval_input_fn = tf.estimator.inputs.numpy_input_fn(\n",
    "    x={\"x\": X_test},\n",
    "    y=y_test,\n",
    "    #x={\"x\": eval_data},\n",
    "    #y=eval_labels,\n",
    "    num_epochs=1,\n",
    "    shuffle=False)\n",
    "eval_results = mnist_classifier.evaluate(input_fn=eval_input_fn)\n",
    "print(eval_results)"
   ]
  },
  {
   "cell_type": "code",
   "execution_count": null,
   "metadata": {},
   "outputs": [],
   "source": []
  }
 ],
 "metadata": {
  "kernelspec": {
   "display_name": "Python 3",
   "language": "python",
   "name": "python3"
  },
  "language_info": {
   "codemirror_mode": {
    "name": "ipython",
    "version": 3
   },
   "file_extension": ".py",
   "mimetype": "text/x-python",
   "name": "python",
   "nbconvert_exporter": "python",
   "pygments_lexer": "ipython3",
   "version": "3.6.3"
  },
  "toc": {
   "nav_menu": {},
   "number_sections": true,
   "sideBar": true,
   "skip_h1_title": false,
   "toc_cell": false,
   "toc_position": {},
   "toc_section_display": "block",
   "toc_window_display": false
  }
 },
 "nbformat": 4,
 "nbformat_minor": 2
}
