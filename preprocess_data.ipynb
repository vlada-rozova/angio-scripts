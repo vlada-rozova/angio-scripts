{
 "cells": [
  {
   "cell_type": "markdown",
   "metadata": {},
   "source": [
    "### Load the data, extract originals and labels"
   ]
  },
  {
   "cell_type": "code",
   "execution_count": null,
   "metadata": {},
   "outputs": [],
   "source": [
    "import os\n",
    "import pandas as pd\n",
    "import numpy as np\n",
    "import matplotlib.pyplot as plt\n",
    "import time\n",
    "import patch\n",
    "import dataset"
   ]
  },
  {
   "cell_type": "code",
   "execution_count": null,
   "metadata": {},
   "outputs": [],
   "source": [
    "start_time = time.time()\n",
    "\n",
    "originals, labels, count = patch.process_rois('CS8_ROIs.csv', 'cellsuspensionED8/', 0)\n",
    "print('count = ', count)\n",
    "\n",
    "print(\"--- %s seconds ---\" % (time.time() - start_time))"
   ]
  },
  {
   "cell_type": "code",
   "execution_count": null,
   "metadata": {},
   "outputs": [],
   "source": [
    "labels = labels[:count, :]\n",
    "print('labels shape: ', labels.shape)\n",
    "originals = originals[: count, :, :]\n",
    "print('originals shape: ', originals.shape)"
   ]
  },
  {
   "cell_type": "code",
   "execution_count": null,
   "metadata": {},
   "outputs": [],
   "source": [
    "patch.plot_skeleton(labels[252720:275520, 0], 172, 174, 23)"
   ]
  },
  {
   "cell_type": "code",
   "execution_count": null,
   "metadata": {
    "scrolled": true
   },
   "outputs": [],
   "source": [
    "patch.plot_patches(originals[252720:275520, : , :], 172, 174, 23)"
   ]
  },
  {
   "cell_type": "markdown",
   "metadata": {},
   "source": [
    "### Evaluate the data"
   ]
  },
  {
   "cell_type": "code",
   "execution_count": null,
   "metadata": {},
   "outputs": [],
   "source": [
    "path = '/Users/vladarozova/Dropbox/PhD/angiogenesis/Anna\\'s results/cellsuspensionED8/'\n",
    "filename1 = 'egg2_1_blurred_skeletone.jpg'\n",
    "filename2 = 'egg3_2_blurred_skeletone.jpg'\n",
    "img1 = plt.imread(path + filename1)\n",
    "img2 = plt.imread(path + filename2)\n",
    "plt.subplot(121)\n",
    "plt.imshow(img1)\n",
    "plt.subplot(122)\n",
    "plt.imshow(img2)\n",
    "plt.show()"
   ]
  },
  {
   "cell_type": "code",
   "execution_count": null,
   "metadata": {},
   "outputs": [],
   "source": [
    "plt.hist(labels, bins = 255)\n",
    "plt.show()"
   ]
  },
  {
   "cell_type": "markdown",
   "metadata": {},
   "source": [
    "### Create binary labels"
   ]
  },
  {
   "cell_type": "code",
   "execution_count": null,
   "metadata": {},
   "outputs": [],
   "source": [
    "binary_labels = dataset.binarize_labels(labels, 128)\n",
    "patch.plot_skeleton(binary_labels[252720:275520, 0], 172, 174, 23)"
   ]
  },
  {
   "cell_type": "markdown",
   "metadata": {},
   "source": [
    "### Choose samples to make the ratio 1:1"
   ]
  },
  {
   "cell_type": "code",
   "execution_count": null,
   "metadata": {},
   "outputs": [],
   "source": [
    "n_pos = int(sum(binary_labels))\n",
    "n_neg = count - n_pos\n",
    "print('Number of negative samples: ', n_neg)\n",
    "print('Number of positive samples: ', n_pos)\n",
    "print('Fraction of positive samples: ', n_pos / count * 100, '%')\n",
    "new_ratio = 1\n",
    "n_neg_new = int(new_ratio * n_pos)\n",
    "print('Need to randomly choose ', n_neg_new, ' negative samples to make it', new_ratio, ': 1')"
   ]
  },
  {
   "cell_type": "code",
   "execution_count": null,
   "metadata": {},
   "outputs": [],
   "source": [
    "neg_indeces = (np.where(binary_labels == 0))[0]\n",
    "np.random.shuffle(neg_indeces)\n",
    "neg_indeces_new = neg_indeces[:n_neg_new]"
   ]
  },
  {
   "cell_type": "markdown",
   "metadata": {},
   "source": [
    "### Create stratified training and test sets"
   ]
  },
  {
   "cell_type": "code",
   "execution_count": null,
   "metadata": {},
   "outputs": [],
   "source": [
    "train_ratio = 0.8\n",
    "n_samples = n_pos + n_neg_new\n",
    "\n",
    "print(n_samples, n_pos, n_neg_new)\n",
    "print('train: ', round(train_ratio * n_samples), ', test: ', round((1 - train_ratio) * n_samples))\n",
    "print('Positive. y_train: ', round(train_ratio * n_pos), ', y_test: ', round((1 - train_ratio) * n_pos))\n",
    "print('Negative. y_train: ', round(train_ratio * n_neg_new), ', y_test: ', round((1 - train_ratio) * n_neg_new))"
   ]
  },
  {
   "cell_type": "code",
   "execution_count": null,
   "metadata": {},
   "outputs": [],
   "source": [
    "pos_indeces = (np.where(binary_labels == 1))[0]\n",
    "np.random.shuffle(pos_indeces)\n",
    "pos_indeces_train = pos_indeces[:round(train_ratio * n_pos)]\n",
    "pos_indeces_test = pos_indeces[round(train_ratio * n_pos):]\n",
    "\n",
    "neg_indeces_train = neg_indeces_new[:round(train_ratio * n_neg_new)]\n",
    "neg_indeces_test = neg_indeces_new[round(train_ratio * n_neg_new):]"
   ]
  },
  {
   "cell_type": "code",
   "execution_count": null,
   "metadata": {},
   "outputs": [],
   "source": [
    "train_indeces = np.append(pos_indeces_train, neg_indeces_train, axis=0)\n",
    "np.random.shuffle(train_indeces)\n",
    "X_train = originals[train_indeces, :, :]\n",
    "y_train = binary_labels[train_indeces]\n",
    "\n",
    "test_indeces = np.append(pos_indeces_test, neg_indeces_test, axis = 0)\n",
    "np.random.shuffle(test_indeces)\n",
    "X_test = originals[test_indeces, :, :]\n",
    "y_test = binary_labels[test_indeces]\n",
    "\n",
    "print(X_train.shape, y_train.shape)\n",
    "print(X_test.shape, y_test.shape)\n",
    "X_train.dtype"
   ]
  },
  {
   "cell_type": "markdown",
   "metadata": {},
   "source": [
    "### Calculate stats on training set"
   ]
  },
  {
   "cell_type": "code",
   "execution_count": null,
   "metadata": {},
   "outputs": [],
   "source": [
    "train_mean = np.mean(X_train)\n",
    "train_sd = np.std(X_train, ddof = 1)"
   ]
  },
  {
   "cell_type": "code",
   "execution_count": null,
   "metadata": {},
   "outputs": [],
   "source": [
    "X_train_std = dataset.standardize(X_train, train_mean, train_sd)"
   ]
  },
  {
   "cell_type": "code",
   "execution_count": null,
   "metadata": {},
   "outputs": [],
   "source": [
    "X_test_std = dataset.standardize(X_test, train_mean, train_sd)"
   ]
  },
  {
   "cell_type": "markdown",
   "metadata": {},
   "source": [
    "### Create a small dataset"
   ]
  },
  {
   "cell_type": "code",
   "execution_count": null,
   "metadata": {
    "scrolled": true
   },
   "outputs": [],
   "source": [
    "X_train_small = X_train_std[:100, :, :]\n",
    "y_train_small = y_train[:100, :]\n",
    "print(X_train_small.shape, y_train_small.shape)\n",
    "print(y_train_small.sum())"
   ]
  }
 ],
 "metadata": {
  "kernelspec": {
   "display_name": "Python 3",
   "language": "python",
   "name": "python3"
  },
  "language_info": {
   "codemirror_mode": {
    "name": "ipython",
    "version": 3
   },
   "file_extension": ".py",
   "mimetype": "text/x-python",
   "name": "python",
   "nbconvert_exporter": "python",
   "pygments_lexer": "ipython3",
   "version": "3.6.2"
  },
  "toc": {
   "nav_menu": {},
   "number_sections": true,
   "sideBar": true,
   "skip_h1_title": false,
   "toc_cell": false,
   "toc_position": {},
   "toc_section_display": "block",
   "toc_window_display": false
  }
 },
 "nbformat": 4,
 "nbformat_minor": 2
}
