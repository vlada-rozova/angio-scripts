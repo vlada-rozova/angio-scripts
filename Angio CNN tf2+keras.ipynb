{
 "cells": [
  {
   "cell_type": "code",
   "execution_count": 1,
   "metadata": {},
   "outputs": [
    {
     "name": "stderr",
     "output_type": "stream",
     "text": [
      "/Applications/anaconda3/lib/python3.6/site-packages/h5py/__init__.py:34: FutureWarning: Conversion of the second argument of issubdtype from `float` to `np.floating` is deprecated. In future, it will be treated as `np.float64 == np.dtype(float).type`.\n",
      "  from ._conv import register_converters as _register_converters\n"
     ]
    }
   ],
   "source": [
    "import tensorflow as tf\n",
    "from tensorflow import keras\n",
    "from matplotlib import pyplot as plt\n",
    "import datetime\n",
    "import LoadPatches\n",
    "%matplotlib inline\n",
    "%load_ext tensorboard"
   ]
  },
  {
   "cell_type": "markdown",
   "metadata": {},
   "source": [
    "**Settings**"
   ]
  },
  {
   "cell_type": "code",
   "execution_count": 2,
   "metadata": {
    "collapsed": true
   },
   "outputs": [],
   "source": [
    "image_folder = 'cellsuspensionED8'\n",
    "roi_file = 'CS8_ROIs.csv'\n",
    "patch_size = 23\n",
    "\n",
    "# Clipping parameter for histogram equalisation\n",
    "clip_limit = 0.03"
   ]
  },
  {
   "cell_type": "code",
   "execution_count": 3,
   "metadata": {},
   "outputs": [
    {
     "name": "stderr",
     "output_type": "stream",
     "text": [
      "/Applications/anaconda3/lib/python3.6/site-packages/skimage/util/dtype.py:141: UserWarning: Possible precision loss when converting from float64 to uint16\n",
      "  .format(dtypeobj_in, dtypeobj_out))\n"
     ]
    },
    {
     "name": "stdout",
     "output_type": "stream",
     "text": [
      "count =  883402\n"
     ]
    }
   ],
   "source": [
    "originals, labels, count = LoadPatches.process_rois('CS8_ROIs.csv', 'cellsuspensionED8/', 0, \n",
    "                                                    patch_size, clip_limit)\n",
    "print('count = ', count)"
   ]
  },
  {
   "cell_type": "code",
   "execution_count": 59,
   "metadata": {},
   "outputs": [],
   "source": [
    "import os\n",
    "import glob\n",
    "import cv2\n",
    "import pandas as pd\n",
    "from skimage import exposure\n",
    "from sklearn.feature_extraction import image\n",
    "\n",
    "image_path = '../originals/'\n",
    "seg_path = '../Anna\\'s results'\n",
    "\n",
    "filename = 'CS8_ROIs.csv'\n",
    "folder = 'cellsuspensionED8/'\n",
    "\n",
    "images = glob.glob(image_path + folder + \"*.tif\")\n",
    "# images = []\n",
    "# for name in image_list:\n",
    "#     images.append(cv2.imread(name))"
   ]
  },
  {
   "cell_type": "code",
   "execution_count": 37,
   "metadata": {},
   "outputs": [
    {
     "data": {
      "text/plain": [
       "['../originals/cellsuspensionED8/egg3.tif',\n",
       " '../originals/cellsuspensionED8/egg2.tif',\n",
       " '../originals/cellsuspensionED8/egg6.tif',\n",
       " '../originals/cellsuspensionED8/egg5.tif']"
      ]
     },
     "execution_count": 37,
     "metadata": {},
     "output_type": "execute_result"
    }
   ],
   "source": [
    "images"
   ]
  },
  {
   "cell_type": "code",
   "execution_count": 54,
   "metadata": {},
   "outputs": [
    {
     "data": {
      "text/html": [
       "<div>\n",
       "<style scoped>\n",
       "    .dataframe tbody tr th:only-of-type {\n",
       "        vertical-align: middle;\n",
       "    }\n",
       "\n",
       "    .dataframe tbody tr th {\n",
       "        vertical-align: top;\n",
       "    }\n",
       "\n",
       "    .dataframe thead th {\n",
       "        text-align: right;\n",
       "    }\n",
       "</style>\n",
       "<table border=\"1\" class=\"dataframe\">\n",
       "  <thead>\n",
       "    <tr style=\"text-align: right;\">\n",
       "      <th></th>\n",
       "      <th>label</th>\n",
       "      <th>corner</th>\n",
       "      <th>sample</th>\n",
       "      <th>branch_length</th>\n",
       "      <th>area</th>\n",
       "      <th>xcoord</th>\n",
       "      <th>ycoord</th>\n",
       "      <th>width</th>\n",
       "      <th>height</th>\n",
       "      <th>bld</th>\n",
       "      <th>day</th>\n",
       "      <th>cond</th>\n",
       "      <th>patch_per_roi</th>\n",
       "      <th>bottom_px</th>\n",
       "      <th>right_px</th>\n",
       "    </tr>\n",
       "  </thead>\n",
       "  <tbody>\n",
       "    <tr>\n",
       "      <th>1</th>\n",
       "      <td>egg2</td>\n",
       "      <td>0</td>\n",
       "      <td>0</td>\n",
       "      <td>1987.650</td>\n",
       "      <td>32752</td>\n",
       "      <td>228</td>\n",
       "      <td>28</td>\n",
       "      <td>178</td>\n",
       "      <td>184</td>\n",
       "      <td>0.060688</td>\n",
       "      <td>Day 8</td>\n",
       "      <td>Cells</td>\n",
       "      <td>25272</td>\n",
       "      <td>212</td>\n",
       "      <td>406</td>\n",
       "    </tr>\n",
       "    <tr>\n",
       "      <th>2</th>\n",
       "      <td>egg2</td>\n",
       "      <td>0</td>\n",
       "      <td>1</td>\n",
       "      <td>1293.367</td>\n",
       "      <td>32752</td>\n",
       "      <td>274</td>\n",
       "      <td>157</td>\n",
       "      <td>178</td>\n",
       "      <td>184</td>\n",
       "      <td>0.039490</td>\n",
       "      <td>Day 8</td>\n",
       "      <td>Cells</td>\n",
       "      <td>25272</td>\n",
       "      <td>341</td>\n",
       "      <td>452</td>\n",
       "    </tr>\n",
       "    <tr>\n",
       "      <th>3</th>\n",
       "      <td>egg2</td>\n",
       "      <td>0</td>\n",
       "      <td>2</td>\n",
       "      <td>1899.560</td>\n",
       "      <td>32752</td>\n",
       "      <td>943</td>\n",
       "      <td>300</td>\n",
       "      <td>178</td>\n",
       "      <td>184</td>\n",
       "      <td>0.057998</td>\n",
       "      <td>Day 8</td>\n",
       "      <td>Cells</td>\n",
       "      <td>25272</td>\n",
       "      <td>484</td>\n",
       "      <td>1121</td>\n",
       "    </tr>\n",
       "    <tr>\n",
       "      <th>4</th>\n",
       "      <td>egg2</td>\n",
       "      <td>0</td>\n",
       "      <td>3</td>\n",
       "      <td>1234.393</td>\n",
       "      <td>32752</td>\n",
       "      <td>221</td>\n",
       "      <td>594</td>\n",
       "      <td>178</td>\n",
       "      <td>184</td>\n",
       "      <td>0.037689</td>\n",
       "      <td>Day 8</td>\n",
       "      <td>Cells</td>\n",
       "      <td>25272</td>\n",
       "      <td>778</td>\n",
       "      <td>399</td>\n",
       "    </tr>\n",
       "    <tr>\n",
       "      <th>5</th>\n",
       "      <td>egg2</td>\n",
       "      <td>0</td>\n",
       "      <td>4</td>\n",
       "      <td>1753.803</td>\n",
       "      <td>32752</td>\n",
       "      <td>915</td>\n",
       "      <td>738</td>\n",
       "      <td>178</td>\n",
       "      <td>184</td>\n",
       "      <td>0.053548</td>\n",
       "      <td>Day 8</td>\n",
       "      <td>Cells</td>\n",
       "      <td>25272</td>\n",
       "      <td>922</td>\n",
       "      <td>1093</td>\n",
       "    </tr>\n",
       "    <tr>\n",
       "      <th>6</th>\n",
       "      <td>egg2</td>\n",
       "      <td>0</td>\n",
       "      <td>5</td>\n",
       "      <td>1531.487</td>\n",
       "      <td>32752</td>\n",
       "      <td>25</td>\n",
       "      <td>449</td>\n",
       "      <td>178</td>\n",
       "      <td>184</td>\n",
       "      <td>0.046760</td>\n",
       "      <td>Day 8</td>\n",
       "      <td>Cells</td>\n",
       "      <td>25272</td>\n",
       "      <td>633</td>\n",
       "      <td>203</td>\n",
       "    </tr>\n",
       "    <tr>\n",
       "      <th>7</th>\n",
       "      <td>egg2</td>\n",
       "      <td>0</td>\n",
       "      <td>6</td>\n",
       "      <td>1755.484</td>\n",
       "      <td>32752</td>\n",
       "      <td>933</td>\n",
       "      <td>196</td>\n",
       "      <td>178</td>\n",
       "      <td>184</td>\n",
       "      <td>0.053599</td>\n",
       "      <td>Day 8</td>\n",
       "      <td>Cells</td>\n",
       "      <td>25272</td>\n",
       "      <td>380</td>\n",
       "      <td>1111</td>\n",
       "    </tr>\n",
       "    <tr>\n",
       "      <th>8</th>\n",
       "      <td>egg2</td>\n",
       "      <td>0</td>\n",
       "      <td>7</td>\n",
       "      <td>2372.881</td>\n",
       "      <td>32752</td>\n",
       "      <td>902</td>\n",
       "      <td>700</td>\n",
       "      <td>178</td>\n",
       "      <td>184</td>\n",
       "      <td>0.072450</td>\n",
       "      <td>Day 8</td>\n",
       "      <td>Cells</td>\n",
       "      <td>25272</td>\n",
       "      <td>884</td>\n",
       "      <td>1080</td>\n",
       "    </tr>\n",
       "    <tr>\n",
       "      <th>9</th>\n",
       "      <td>egg2</td>\n",
       "      <td>0</td>\n",
       "      <td>8</td>\n",
       "      <td>959.646</td>\n",
       "      <td>32752</td>\n",
       "      <td>28</td>\n",
       "      <td>600</td>\n",
       "      <td>178</td>\n",
       "      <td>184</td>\n",
       "      <td>0.029300</td>\n",
       "      <td>Day 8</td>\n",
       "      <td>Cells</td>\n",
       "      <td>25272</td>\n",
       "      <td>784</td>\n",
       "      <td>206</td>\n",
       "    </tr>\n",
       "    <tr>\n",
       "      <th>10</th>\n",
       "      <td>egg2</td>\n",
       "      <td>0</td>\n",
       "      <td>9</td>\n",
       "      <td>1416.231</td>\n",
       "      <td>32752</td>\n",
       "      <td>414</td>\n",
       "      <td>824</td>\n",
       "      <td>178</td>\n",
       "      <td>184</td>\n",
       "      <td>0.043241</td>\n",
       "      <td>Day 8</td>\n",
       "      <td>Cells</td>\n",
       "      <td>25272</td>\n",
       "      <td>1008</td>\n",
       "      <td>592</td>\n",
       "    </tr>\n",
       "  </tbody>\n",
       "</table>\n",
       "</div>"
      ],
      "text/plain": [
       "   label  corner  sample  branch_length   area  xcoord  ycoord  width  height  \\\n",
       "1   egg2       0       0       1987.650  32752     228      28    178     184   \n",
       "2   egg2       0       1       1293.367  32752     274     157    178     184   \n",
       "3   egg2       0       2       1899.560  32752     943     300    178     184   \n",
       "4   egg2       0       3       1234.393  32752     221     594    178     184   \n",
       "5   egg2       0       4       1753.803  32752     915     738    178     184   \n",
       "6   egg2       0       5       1531.487  32752      25     449    178     184   \n",
       "7   egg2       0       6       1755.484  32752     933     196    178     184   \n",
       "8   egg2       0       7       2372.881  32752     902     700    178     184   \n",
       "9   egg2       0       8        959.646  32752      28     600    178     184   \n",
       "10  egg2       0       9       1416.231  32752     414     824    178     184   \n",
       "\n",
       "         bld    day   cond  patch_per_roi  bottom_px  right_px  \n",
       "1   0.060688  Day 8  Cells          25272        212       406  \n",
       "2   0.039490  Day 8  Cells          25272        341       452  \n",
       "3   0.057998  Day 8  Cells          25272        484      1121  \n",
       "4   0.037689  Day 8  Cells          25272        778       399  \n",
       "5   0.053548  Day 8  Cells          25272        922      1093  \n",
       "6   0.046760  Day 8  Cells          25272        633       203  \n",
       "7   0.053599  Day 8  Cells          25272        380      1111  \n",
       "8   0.072450  Day 8  Cells          25272        884      1080  \n",
       "9   0.029300  Day 8  Cells          25272        784       206  \n",
       "10  0.043241  Day 8  Cells          25272       1008       592  "
      ]
     },
     "execution_count": 54,
     "metadata": {},
     "output_type": "execute_result"
    }
   ],
   "source": [
    "csv_path = os.path.join(seg_path, filename)\n",
    "regions = pd.read_csv(csv_path, index_col=0)\n",
    "regions['patch_per_roi'] = (regions.height - patch_size + 1) * (regions.width - patch_size + 1)\n",
    "regions['bottom_px'] = regions.ycoord + regions.height\n",
    "regions['right_px'] = regions.xcoord + regions.width\n",
    "\n",
    "regions.head(10)"
   ]
  },
  {
   "cell_type": "code",
   "execution_count": 51,
   "metadata": {},
   "outputs": [
    {
     "data": {
      "text/plain": [
       "array(['egg2', 'egg3', 'egg5', 'egg6'], dtype=object)"
      ]
     },
     "execution_count": 51,
     "metadata": {},
     "output_type": "execute_result"
    }
   ],
   "source": [
    "regions.label.unique()"
   ]
  },
  {
   "cell_type": "code",
   "execution_count": 73,
   "metadata": {},
   "outputs": [],
   "source": [
    "# for label in regions.label.unique():\n",
    "label = 'egg2'\n",
    "\n",
    "img = cv2.imread(image_path + folder + label + \".tif\")\n",
    "img = exposure.equalize_adapthist(img[:, :, 1], clip_limit=clip_limit) # keep only the green channel! "
   ]
  },
  {
   "cell_type": "code",
   "execution_count": 84,
   "metadata": {},
   "outputs": [
    {
     "data": {
      "text/plain": [
       "(25272, 23, 23)"
      ]
     },
     "execution_count": 84,
     "metadata": {},
     "output_type": "execute_result"
    }
   ],
   "source": [
    "\n",
    "\n",
    "for _, row in regions[regions.label == label].iterrows():\n",
    "    \n",
    "    y = image.extract_patches_2d(img[row.ycoord : row.bottom_px, row.xcoord : row.right_px], \n",
    "                                 (patch_size, patch_size))\n",
    "\n"
   ]
  }
 ],
 "metadata": {
  "kernelspec": {
   "display_name": "Python 3",
   "language": "python",
   "name": "python3"
  },
  "language_info": {
   "codemirror_mode": {
    "name": "ipython",
    "version": 3
   },
   "file_extension": ".py",
   "mimetype": "text/x-python",
   "name": "python",
   "nbconvert_exporter": "python",
   "pygments_lexer": "ipython3",
   "version": "3.6.8"
  },
  "toc": {
   "base_numbering": 1,
   "nav_menu": {},
   "number_sections": true,
   "sideBar": true,
   "skip_h1_title": false,
   "title_cell": "Table of Contents",
   "title_sidebar": "Contents",
   "toc_cell": false,
   "toc_position": {},
   "toc_section_display": true,
   "toc_window_display": false
  }
 },
 "nbformat": 4,
 "nbformat_minor": 2
}
