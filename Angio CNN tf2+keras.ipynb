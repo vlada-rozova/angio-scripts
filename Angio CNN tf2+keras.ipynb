{
 "cells": [
  {
   "cell_type": "code",
   "execution_count": 1,
   "metadata": {},
   "outputs": [],
   "source": [
    "import numpy as np\n",
    "import tensorflow as tf\n",
    "import datetime\n",
    "import LoadPatches\n",
    "from tensorflow import keras\n",
    "from matplotlib import pyplot as plt\n",
    "from sklearn.model_selection import train_test_split\n",
    "\n",
    "%matplotlib inline\n",
    "%load_ext tensorboard"
   ]
  },
  {
   "cell_type": "markdown",
   "metadata": {},
   "source": [
    "**Settings**"
   ]
  },
  {
   "cell_type": "code",
   "execution_count": 2,
   "metadata": {},
   "outputs": [],
   "source": [
    "filename = 'CS8_ROIs.csv'\n",
    "folder = 'cellsuspensionED8/'\n",
    "patch_size = 23\n",
    "\n",
    "# Clipping parameter for histogram equalisation\n",
    "clip_limit = 0.03\n",
    "\n",
    "\n",
    "batch_size = 100\n",
    "epochs = 15"
   ]
  },
  {
   "cell_type": "markdown",
   "metadata": {},
   "source": [
    "**Load data**"
   ]
  },
  {
   "cell_type": "code",
   "execution_count": 3,
   "metadata": {},
   "outputs": [],
   "source": [
    "X, y = LoadPatches.get_patches_and_labels(filename, folder, patch_size, clip_limit)"
   ]
  },
  {
   "cell_type": "markdown",
   "metadata": {},
   "source": [
    "**Create training and validation sets**"
   ]
  },
  {
   "cell_type": "code",
   "execution_count": 4,
   "metadata": {},
   "outputs": [],
   "source": [
    "def cast(x, y):\n",
    "    x = tf.cast(x, tf.float32)\n",
    "    y = tf.cast(y, tf.int64)\n",
    "    return x, y\n",
    "\n",
    "def create_dataset(x, y, n_classes=2):\n",
    "    if n_classes > 2:\n",
    "        y = tf.one_hot(y, depth=n_classes)\n",
    "    return tf.data.Dataset.from_tensor_slices((x, y)).map(cast).shuffle(len(y)).batch(100)"
   ]
  },
  {
   "cell_type": "code",
   "execution_count": 5,
   "metadata": {},
   "outputs": [],
   "source": [
    "X_train, X_val, y_train, y_val = train_test_split(X, y, test_size=0.2)"
   ]
  },
  {
   "cell_type": "code",
   "execution_count": 6,
   "metadata": {},
   "outputs": [],
   "source": [
    "train_ds = create_dataset(X_train, y_train)\n",
    "val_ds = create_dataset(X_val, y_val)"
   ]
  },
  {
   "cell_type": "markdown",
   "metadata": {},
   "source": [
    "**Define the model**"
   ]
  },
  {
   "cell_type": "code",
   "execution_count": 7,
   "metadata": {},
   "outputs": [
    {
     "name": "stdout",
     "output_type": "stream",
     "text": [
      "Model: \"sequential\"\n",
      "_________________________________________________________________\n",
      "Layer (type)                 Output Shape              Param #   \n",
      "=================================================================\n",
      "reshape (Reshape)            (None, 23, 23, 1)         0         \n",
      "_________________________________________________________________\n",
      "conv2d (Conv2D)              (None, 23, 23, 16)        416       \n",
      "_________________________________________________________________\n",
      "max_pooling2d (MaxPooling2D) (None, 11, 11, 16)        0         \n",
      "_________________________________________________________________\n",
      "conv2d_1 (Conv2D)            (None, 11, 11, 32)        12832     \n",
      "_________________________________________________________________\n",
      "max_pooling2d_1 (MaxPooling2 (None, 5, 5, 32)          0         \n",
      "_________________________________________________________________\n",
      "conv2d_2 (Conv2D)            (None, 5, 5, 64)          51264     \n",
      "_________________________________________________________________\n",
      "max_pooling2d_2 (MaxPooling2 (None, 2, 2, 64)          0         \n",
      "_________________________________________________________________\n",
      "dropout (Dropout)            (None, 2, 2, 64)          0         \n",
      "_________________________________________________________________\n",
      "flatten (Flatten)            (None, 256)               0         \n",
      "_________________________________________________________________\n",
      "dense (Dense)                (None, 1024)              263168    \n",
      "_________________________________________________________________\n",
      "dense_1 (Dense)              (None, 1)                 1025      \n",
      "=================================================================\n",
      "Total params: 328,705\n",
      "Trainable params: 328,705\n",
      "Non-trainable params: 0\n",
      "_________________________________________________________________\n"
     ]
    }
   ],
   "source": [
    "# model = keras.Sequential([\n",
    "#     keras.layers.Reshape(target_shape=(23 * 23,), input_shape=(23, 23)),\n",
    "#     keras.layers.Dense(units=256, activation='relu'),\n",
    "#     keras.layers.Dense(units=192, activation='relu'),\n",
    "#     keras.layers.Dense(units=128, activation='relu'),\n",
    "#     keras.layers.Dense(units=10, activation='softmax')\n",
    "# ])\n",
    "\n",
    "# model = keras.Sequential([\n",
    "#     keras.layers.Reshape(target_shape=(patch_size, patch_size , 1), input_shape=(patch_size, patch_size)),\n",
    "#     keras.layers.Conv2D(32, 5, padding='same', activation='relu'),\n",
    "#     keras.layers.MaxPooling2D(),\n",
    "#     keras.layers.Conv2D(64, 5, padding='same', activation='relu'),\n",
    "#     keras.layers.MaxPooling2D(),\n",
    "#     keras.layers.Dropout(0.2),\n",
    "#     keras.layers.Flatten(),\n",
    "#     keras.layers.Dense(1024, activation='relu'),\n",
    "#     keras.layers.Dense(1, activation='sigmoid')\n",
    "# ])\n",
    "\n",
    "model = keras.Sequential([\n",
    "    keras.layers.Reshape(target_shape=(patch_size, patch_size , 1), input_shape=(patch_size, patch_size)),\n",
    "    keras.layers.Conv2D(16, 5, padding='same', activation='relu'),\n",
    "    keras.layers.MaxPooling2D(),\n",
    "    keras.layers.Conv2D(32, 5, padding='same', activation='relu'),\n",
    "    keras.layers.MaxPooling2D(),\n",
    "    keras.layers.Conv2D(64, 5, padding='same', activation='relu'),\n",
    "    keras.layers.MaxPooling2D(),\n",
    "    keras.layers.Dropout(0.2),\n",
    "    keras.layers.Flatten(),\n",
    "    keras.layers.Dense(1024, activation='relu'),\n",
    "    keras.layers.Dense(1, activation='sigmoid')\n",
    "])\n",
    "\n",
    "model.summary()"
   ]
  },
  {
   "cell_type": "code",
   "execution_count": 9,
   "metadata": {},
   "outputs": [],
   "source": [
    "model.compile(optimizer='adam',\n",
    "              loss='binary_crossentropy',\n",
    "              metrics=['accuracy', \n",
    "                       keras.metrics.Precision(, name='precision'),\n",
    "                       keras.metrics.Recall(, name='recall'),\n",
    "                       keras.metrics.AUC(name='auc')])"
   ]
  },
  {
   "cell_type": "code",
   "execution_count": 10,
   "metadata": {},
   "outputs": [],
   "source": [
    "log_dir = \"logs/\" + datetime.datetime.now().strftime(\"%d.%m.%Y-%H%M%S\")\n",
    "tensorboard_callback = tf.keras.callbacks.TensorBoard(log_dir=log_dir, histogram_freq=1)"
   ]
  },
  {
   "cell_type": "code",
   "execution_count": 11,
   "metadata": {},
   "outputs": [
    {
     "name": "stdout",
     "output_type": "stream",
     "text": [
      "Epoch 1/15\n",
      "558/558 [==============================] - 42s 75ms/step - loss: 0.4517 - accuracy: 0.7788 - custom_acc: 0.6860 - precision: 0.8909 - recall: 0.4265 - auc: 0.8663 - val_loss: 0.0000e+00 - val_accuracy: 0.0000e+00 - val_custom_acc: 0.0000e+00 - val_precision: 0.0000e+00 - val_recall: 0.0000e+00 - val_auc: 0.0000e+00\n",
      "Epoch 2/15\n",
      "558/558 [==============================] - 42s 76ms/step - loss: 0.3565 - accuracy: 0.8419 - custom_acc: 0.7661 - precision: 0.9067 - recall: 0.5951 - auc: 0.9182 - val_loss: 0.3359 - val_accuracy: 0.8300 - val_custom_acc: 0.7850 - val_precision: 0.9444 - val_recall: 0.5604 - val_auc: 0.9306\n",
      "Epoch 3/15\n",
      "558/558 [==============================] - 41s 73ms/step - loss: 0.3280 - accuracy: 0.8574 - custom_acc: 0.7924 - precision: 0.9156 - recall: 0.6458 - auc: 0.9310 - val_loss: 0.3994 - val_accuracy: 0.8500 - val_custom_acc: 0.7650 - val_precision: 0.8621 - val_recall: 0.6818 - val_auc: 0.8956\n",
      "Epoch 4/15\n",
      "558/558 [==============================] - 41s 73ms/step - loss: 0.3090 - accuracy: 0.8660 - custom_acc: 0.8075 - precision: 0.9221 - recall: 0.6734 - auc: 0.9388 - val_loss: 0.3780 - val_accuracy: 0.8350 - val_custom_acc: 0.7100 - val_precision: 0.9623 - val_recall: 0.4766 - val_auc: 0.9318\n",
      "Epoch 5/15\n",
      "558/558 [==============================] - 39s 69ms/step - loss: 0.2966 - accuracy: 0.8723 - custom_acc: 0.8169 - precision: 0.9266 - recall: 0.6897 - auc: 0.9437 - val_loss: 0.1880 - val_accuracy: 0.9350 - val_custom_acc: 0.8950 - val_precision: 0.9462 - val_recall: 0.8462 - val_auc: 0.9767\n",
      "Epoch 6/15\n",
      "558/558 [==============================] - 37s 66ms/step - loss: 0.2829 - accuracy: 0.8790 - custom_acc: 0.8292 - precision: 0.9295 - recall: 0.7138 - auc: 0.9486 - val_loss: 0.3564 - val_accuracy: 0.8450 - val_custom_acc: 0.7400 - val_precision: 0.8750 - val_recall: 0.5600 - val_auc: 0.9192\n",
      "Epoch 7/15\n",
      "558/558 [==============================] - 36s 65ms/step - loss: 0.2724 - accuracy: 0.8837 - custom_acc: 0.8351 - precision: 0.9331 - recall: 0.7232 - auc: 0.9523 - val_loss: 0.3410 - val_accuracy: 0.8450 - val_custom_acc: 0.7800 - val_precision: 0.9028 - val_recall: 0.6373 - val_auc: 0.9262\n",
      "Epoch 8/15\n",
      "558/558 [==============================] - 38s 69ms/step - loss: 0.2648 - accuracy: 0.8891 - custom_acc: 0.8384 - precision: 0.9345 - recall: 0.7292 - auc: 0.9550 - val_loss: 0.2972 - val_accuracy: 0.8600 - val_custom_acc: 0.8300 - val_precision: 0.9275 - val_recall: 0.6882 - val_auc: 0.9417\n",
      "Epoch 9/15\n",
      "558/558 [==============================] - 39s 70ms/step - loss: 0.2540 - accuracy: 0.8939 - custom_acc: 0.8462 - precision: 0.9360 - recall: 0.7446 - auc: 0.9584 - val_loss: 0.3110 - val_accuracy: 0.8450 - val_custom_acc: 0.8750 - val_precision: 0.9359 - val_recall: 0.7849 - val_auc: 0.9440\n",
      "Epoch 10/15\n",
      "558/558 [==============================] - 38s 68ms/step - loss: 0.2465 - accuracy: 0.8968 - custom_acc: 0.8503 - precision: 0.9382 - recall: 0.7513 - auc: 0.9607 - val_loss: 0.2214 - val_accuracy: 0.8900 - val_custom_acc: 0.8500 - val_precision: 0.9730 - val_recall: 0.7200 - val_auc: 0.9711\n",
      "Epoch 11/15\n",
      "558/558 [==============================] - 37s 67ms/step - loss: 0.2414 - accuracy: 0.8987 - custom_acc: 0.8551 - precision: 0.9423 - recall: 0.7578 - auc: 0.9626 - val_loss: 0.2294 - val_accuracy: 0.9400 - val_custom_acc: 0.8400 - val_precision: 0.9474 - val_recall: 0.7200 - val_auc: 0.9654\n",
      "Epoch 12/15\n",
      "558/558 [==============================] - 41s 73ms/step - loss: 0.2327 - accuracy: 0.9024 - custom_acc: 0.8604 - precision: 0.9443 - recall: 0.7671 - auc: 0.9651 - val_loss: 0.2265 - val_accuracy: 0.9050 - val_custom_acc: 0.8800 - val_precision: 0.9405 - val_recall: 0.8061 - val_auc: 0.9649\n",
      "Epoch 13/15\n",
      "558/558 [==============================] - 39s 69ms/step - loss: 0.2257 - accuracy: 0.9047 - custom_acc: 0.8645 - precision: 0.9453 - recall: 0.7750 - auc: 0.9671 - val_loss: 0.2916 - val_accuracy: 0.8900 - val_custom_acc: 0.8700 - val_precision: 0.9022 - val_recall: 0.8300 - val_auc: 0.9488\n",
      "Epoch 14/15\n",
      "558/558 [==============================] - 41s 73ms/step - loss: 0.2209 - accuracy: 0.9082 - custom_acc: 0.8695 - precision: 0.9471 - recall: 0.7837 - auc: 0.9685 - val_loss: 0.2052 - val_accuracy: 0.9000 - val_custom_acc: 0.8850 - val_precision: 0.9474 - val_recall: 0.8333 - val_auc: 0.9785\n",
      "Epoch 15/15\n",
      "558/558 [==============================] - 39s 70ms/step - loss: 0.2122 - accuracy: 0.9119 - custom_acc: 0.8730 - precision: 0.9490 - recall: 0.7894 - auc: 0.9708 - val_loss: 0.3755 - val_accuracy: 0.8600 - val_custom_acc: 0.8000 - val_precision: 0.9367 - val_recall: 0.6789 - val_auc: 0.9297\n"
     ]
    },
    {
     "data": {
      "text/plain": [
       "<tensorflow.python.keras.callbacks.History at 0x22b7b8278>"
      ]
     },
     "execution_count": 11,
     "metadata": {},
     "output_type": "execute_result"
    }
   ],
   "source": [
    "model.fit(\n",
    "    train_ds, \n",
    "    epochs=epochs, \n",
    "    validation_data=val_ds, \n",
    "    validation_steps=2,\n",
    "    callbacks=[tensorboard_callback]\n",
    ")"
   ]
  },
  {
   "cell_type": "markdown",
   "metadata": {},
   "source": [
    "**Evaluate the model**"
   ]
  },
  {
   "cell_type": "code",
   "execution_count": 12,
   "metadata": {},
   "outputs": [],
   "source": [
    "y_val_proba = model.predict_proba(X_val)"
   ]
  },
  {
   "cell_type": "code",
   "execution_count": 13,
   "metadata": {},
   "outputs": [],
   "source": [
    "threshold = 0.5\n",
    "y_val_pred = np.where(y_val_proba > threshold, 1, 0)"
   ]
  },
  {
   "cell_type": "code",
   "execution_count": 20,
   "metadata": {},
   "outputs": [
    {
     "name": "stdout",
     "output_type": "stream",
     "text": [
      "0.8762118870310525\n",
      "0.909170433007727\n",
      "0.8923869490555237\n"
     ]
    }
   ],
   "source": [
    "from sklearn.metrics import precision_score, recall_score, f1_score\n",
    "print(precision_score(y_val, y_val_pred))\n",
    "print(recall_score(y_val, y_val_pred))\n",
    "print(f1_score(y_val, y_val_pred))"
   ]
  },
  {
   "cell_type": "code",
   "execution_count": 14,
   "metadata": {},
   "outputs": [
    {
     "data": {
      "text/plain": [
       "array([[6188,  881],\n",
       "       [ 623, 6236]])"
      ]
     },
     "execution_count": 14,
     "metadata": {},
     "output_type": "execute_result"
    }
   ],
   "source": [
    "from sklearn.metrics import confusion_matrix\n",
    "\n",
    "confusion_matrix(y_val, y_val_pred)"
   ]
  },
  {
   "cell_type": "code",
   "execution_count": 60,
   "metadata": {},
   "outputs": [
    {
     "data": {
      "image/png": "[encoded data removed]",
      "text/plain": [
       "<Figure size 432x288 with 1 Axes>"
      ]
     },
     "metadata": {},
     "output_type": "display_data"
    }
   ],
   "source": [
    "from sklearn.metrics import roc_curve\n",
    "import seaborn as sns\n",
    "plt.style.use('seaborn-ticks')\n",
    "sns.set_style('ticks')\n",
    "plt.rcParams['figure.figsize'] = (6, 4)\n",
    "plt.rcParams['axes.titlesize'] = 20\n",
    "plt.rcParams['axes.labelsize'] = 20\n",
    "plt.rcParams['xtick.labelsize'] = 16\n",
    "plt.rcParams['ytick.labelsize'] = 16\n",
    "\n",
    "fpr, tpr, thresholds = roc_curve(y_val, y_val_proba)\n",
    "\n",
    "def plot_roc_curve(fpr, tpr, label=None):\n",
    "    plt.plot([0, 1], [0, 1], color='grey', linestyle='--')\n",
    "    sns.lineplot(x=fpr, y=tpr, estimator=None, color='cornflowerblue', linewidth=3, label=label)\n",
    "    plt.title(\"ROC curve\")\n",
    "    plt.xlabel('False Positive Rate')\n",
    "    plt.ylabel('True Posiitve Rate')\n",
    "    plt.xlim([-0.05, 1.05])\n",
    "    plt.ylim([-0.05, 1.05])\n",
    "    \n",
    "plot_roc_curve(fpr, tpr)\n",
    "\n",
    "plt.savefig('./results/ROC.png', bbox_inches='tight', dpi=300);"
   ]
  },
  {
   "cell_type": "markdown",
   "metadata": {},
   "source": [
    "**Make predictions on new data**"
   ]
  },
  {
   "cell_type": "code",
   "execution_count": 61,
   "metadata": {},
   "outputs": [],
   "source": [
    "filename = 'PE8_ROIs.csv'\n",
    "folder = 'plaineggED8/'\n",
    "name = 'egg46'\n",
    "region_size = 148\n",
    "X_test = LoadPatches.get_patches(filename, folder, patch_size, clip_limit, 'egg46')"
   ]
  },
  {
   "cell_type": "code",
   "execution_count": 62,
   "metadata": {},
   "outputs": [],
   "source": [
    "X_test = tf.cast(X_test, tf.float32)\n",
    "test_ds = tf.data.Dataset.from_tensor_slices((X_test))"
   ]
  },
  {
   "cell_type": "code",
   "execution_count": 63,
   "metadata": {},
   "outputs": [],
   "source": [
    "y_test_proba = model.predict_proba(X_test)"
   ]
  },
  {
   "cell_type": "code",
   "execution_count": 64,
   "metadata": {},
   "outputs": [],
   "source": [
    "threshold = 0.8\n",
    "y_test_pred = np.where(y_test_proba > threshold, 1, 0)"
   ]
  },
  {
   "cell_type": "code",
   "execution_count": 68,
   "metadata": {},
   "outputs": [
    {
     "data": {
      "image/png": "[encoded data removed]",
      "text/plain": [
       "<Figure size 432x288 with 1 Axes>"
      ]
     },
     "metadata": {},
     "output_type": "display_data"
    }
   ],
   "source": [
    "plt.imshow(y_test_pred.reshape([-1, region_size, region_size])[0], \n",
    "           cmap = plt.cm.gray, interpolation = \"nearest\");\n",
    "plt.axis('off');\n",
    "plt.savefig('./results/test1.png', bbox_inches='tight', dpi=300);"
   ]
  },
  {
   "cell_type": "code",
   "execution_count": 69,
   "metadata": {},
   "outputs": [
    {
     "data": {
      "image/png": "[encoded data removed]",
      "text/plain": [
       "<Figure size 432x288 with 1 Axes>"
      ]
     },
     "metadata": {},
     "output_type": "display_data"
    }
   ],
   "source": [
    "plt.imshow(y_test_pred.reshape([-1, region_size, region_size])[1], \n",
    "           cmap = plt.cm.gray, interpolation = \"nearest\");\n",
    "plt.axis('off');\n",
    "plt.savefig('./results/test2.png', bbox_inches='tight', dpi=300);"
   ]
  },
  {
   "cell_type": "code",
   "execution_count": 70,
   "metadata": {},
   "outputs": [
    {
     "data": {
      "image/png": "[encoded data removed]",
      "text/plain": [
       "<Figure size 432x288 with 1 Axes>"
      ]
     },
     "metadata": {},
     "output_type": "display_data"
    }
   ],
   "source": [
    "plt.imshow(y_test_pred.reshape([-1, region_size, region_size])[2], \n",
    "           cmap = plt.cm.gray, interpolation = \"nearest\");\n",
    "plt.axis('off');\n",
    "plt.savefig('./results/test3.png', bbox_inches='tight', dpi=300);"
   ]
  },
  {
   "cell_type": "code",
   "execution_count": null,
   "metadata": {},
   "outputs": [],
   "source": []
  }
 ],
 "metadata": {
  "kernelspec": {
   "display_name": "Python 3",
   "language": "python",
   "name": "python3"
  },
  "language_info": {
   "codemirror_mode": {
    "name": "ipython",
    "version": 3
   },
   "file_extension": ".py",
   "mimetype": "text/x-python",
   "name": "python",
   "nbconvert_exporter": "python",
   "pygments_lexer": "ipython3",
   "version": "3.6.8"
  },
  "toc": {
   "base_numbering": 1,
   "nav_menu": {},
   "number_sections": true,
   "sideBar": true,
   "skip_h1_title": false,
   "title_cell": "Table of Contents",
   "title_sidebar": "Contents",
   "toc_cell": false,
   "toc_position": {},
   "toc_section_display": true,
   "toc_window_display": false
  }
 },
 "nbformat": 4,
 "nbformat_minor": 2
}
