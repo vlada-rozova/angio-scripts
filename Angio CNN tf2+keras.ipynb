{
 "cells": [
  {
   "cell_type": "code",
   "execution_count": 1,
   "metadata": {},
   "outputs": [],
   "source": [
    "import numpy as np\n",
    "import tensorflow as tf\n",
    "import datetime\n",
    "import LoadPatches\n",
    "from tensorflow import keras\n",
    "from matplotlib import pyplot as plt\n",
    "from sklearn.model_selection import train_test_split\n",
    "\n",
    "%matplotlib inline\n",
    "%load_ext tensorboard"
   ]
  },
  {
   "cell_type": "markdown",
   "metadata": {},
   "source": [
    "**Settings**"
   ]
  },
  {
   "cell_type": "code",
   "execution_count": 2,
   "metadata": {},
   "outputs": [],
   "source": [
    "filename = 'CS8_ROIs.csv'\n",
    "folder = 'cellsuspensionED8/'\n",
    "patch_size = 23\n",
    "\n",
    "# Clipping parameter for histogram equalisation\n",
    "clip_limit = 0.03\n",
    "\n",
    "\n",
    "batch_size = 100\n",
    "epochs = 15"
   ]
  },
  {
   "cell_type": "markdown",
   "metadata": {},
   "source": [
    "**Load data**"
   ]
  },
  {
   "cell_type": "code",
   "execution_count": 3,
   "metadata": {
    "scrolled": true
   },
   "outputs": [],
   "source": [
    "X, y = LoadPatches.get_patches_and_labels(filename, folder, patch_size, clip_limit)"
   ]
  },
  {
   "cell_type": "markdown",
   "metadata": {},
   "source": [
    "**Create training and validation sets**"
   ]
  },
  {
   "cell_type": "code",
   "execution_count": null,
   "metadata": {},
   "outputs": [],
   "source": [
    "def cast(x, y):\n",
    "    x = tf.cast(x, tf.float32)\n",
    "    y = tf.cast(y, tf.int64)\n",
    "    return x, y\n",
    "\n",
    "def create_dataset(x, y, n_classes=2):\n",
    "    if n_classes > 2:\n",
    "        y = tf.one_hot(y, depth=n_classes)\n",
    "    return tf.data.Dataset.from_tensor_slices((x, y)).map(cast).shuffle(len(y)).batch(100)"
   ]
  },
  {
   "cell_type": "code",
   "execution_count": null,
   "metadata": {},
   "outputs": [],
   "source": [
    "X_train, X_val, y_train, y_val = train_test_split(X, y, test_size=0.2)"
   ]
  },
  {
   "cell_type": "code",
   "execution_count": null,
   "metadata": {},
   "outputs": [],
   "source": [
    "train_ds = create_dataset(X_train, y_train)\n",
    "val_ds = create_dataset(X_val, y_val)"
   ]
  },
  {
   "cell_type": "markdown",
   "metadata": {},
   "source": [
    "**Define the model**"
   ]
  },
  {
   "cell_type": "code",
   "execution_count": null,
   "metadata": {},
   "outputs": [],
   "source": [
    "# model = keras.Sequential([\n",
    "#     keras.layers.Reshape(target_shape=(23 * 23,), input_shape=(23, 23)),\n",
    "#     keras.layers.Dense(units=256, activation='relu'),\n",
    "#     keras.layers.Dense(units=192, activation='relu'),\n",
    "#     keras.layers.Dense(units=128, activation='relu'),\n",
    "#     keras.layers.Dense(units=10, activation='softmax')\n",
    "# ])\n",
    "\n",
    "# model = keras.Sequential([\n",
    "#     keras.layers.Reshape(target_shape=(patch_size, patch_size , 1), input_shape=(patch_size, patch_size)),\n",
    "#     keras.layers.Conv2D(32, 5, padding='same', activation='relu'),\n",
    "#     keras.layers.MaxPooling2D(),\n",
    "#     keras.layers.Conv2D(64, 5, padding='same', activation='relu'),\n",
    "#     keras.layers.MaxPooling2D(),\n",
    "#     keras.layers.Dropout(0.2),\n",
    "#     keras.layers.Flatten(),\n",
    "#     keras.layers.Dense(1024, activation='relu'),\n",
    "#     keras.layers.Dense(1, activation='sigmoid')\n",
    "# ])\n",
    "\n",
    "model = keras.Sequential([\n",
    "    keras.layers.Reshape(target_shape=(patch_size, patch_size , 1), input_shape=(patch_size, patch_size)),\n",
    "    keras.layers.Conv2D(16, 5, padding='same', activation='relu'),\n",
    "    keras.layers.MaxPooling2D(),\n",
    "    keras.layers.Conv2D(32, 5, padding='same', activation='relu'),\n",
    "    keras.layers.MaxPooling2D(),\n",
    "    keras.layers.Conv2D(64, 5, padding='same', activation='relu'),\n",
    "    keras.layers.MaxPooling2D(),\n",
    "    keras.layers.Dropout(0.2),\n",
    "    keras.layers.Flatten(),\n",
    "    keras.layers.Dense(1024, activation='relu'),\n",
    "    keras.layers.Dense(1, activation='sigmoid')\n",
    "])\n",
    "\n",
    "model.summary()"
   ]
  },
  {
   "cell_type": "code",
   "execution_count": null,
   "metadata": {},
   "outputs": [],
   "source": [
    "model.compile(optimizer='adam',\n",
    "              loss='binary_crossentropy',\n",
    "              metrics=['accuracy', \n",
    "                       keras.metrics.Precision(, name='precision'),\n",
    "                       keras.metrics.Recall(, name='recall'),\n",
    "                       keras.metrics.AUC(name='auc')])"
   ]
  },
  {
   "cell_type": "code",
   "execution_count": null,
   "metadata": {},
   "outputs": [],
   "source": [
    "log_dir = \"logs/\" + datetime.datetime.now().strftime(\"%d.%m.%Y-%H%M%S\")\n",
    "tensorboard_callback = tf.keras.callbacks.TensorBoard(log_dir=log_dir, histogram_freq=1)"
   ]
  },
  {
   "cell_type": "code",
   "execution_count": null,
   "metadata": {},
   "outputs": [],
   "source": [
    "model.fit(\n",
    "    train_ds, \n",
    "    epochs=epochs, \n",
    "    validation_data=val_ds, \n",
    "    validation_steps=2,\n",
    "    callbacks=[tensorboard_callback]\n",
    ")"
   ]
  },
  {
   "cell_type": "markdown",
   "metadata": {},
   "source": [
    "**Evaluate the model**"
   ]
  },
  {
   "cell_type": "code",
   "execution_count": null,
   "metadata": {},
   "outputs": [],
   "source": [
    "y_val_proba = model.predict_proba(X_val)"
   ]
  },
  {
   "cell_type": "code",
   "execution_count": null,
   "metadata": {},
   "outputs": [],
   "source": [
    "threshold = 0.5\n",
    "y_val_pred = np.where(y_val_proba > threshold, 1, 0)"
   ]
  },
  {
   "cell_type": "code",
   "execution_count": null,
   "metadata": {},
   "outputs": [],
   "source": [
    "from sklearn.metrics import precision_score, recall_score, f1_score\n",
    "print(precision_score(y_val, y_val_pred))\n",
    "print(recall_score(y_val, y_val_pred))\n",
    "print(f1_score(y_val, y_val_pred))"
   ]
  },
  {
   "cell_type": "code",
   "execution_count": null,
   "metadata": {},
   "outputs": [],
   "source": [
    "from sklearn.metrics import confusion_matrix\n",
    "\n",
    "confusion_matrix(y_val, y_val_pred)"
   ]
  },
  {
   "cell_type": "code",
   "execution_count": null,
   "metadata": {},
   "outputs": [],
   "source": [
    "from sklearn.metrics import roc_curve\n",
    "import seaborn as sns\n",
    "plt.style.use('seaborn-ticks')\n",
    "sns.set_style('ticks')\n",
    "plt.rcParams['figure.figsize'] = (6, 4)\n",
    "plt.rcParams['axes.titlesize'] = 20\n",
    "plt.rcParams['axes.labelsize'] = 20\n",
    "plt.rcParams['xtick.labelsize'] = 16\n",
    "plt.rcParams['ytick.labelsize'] = 16\n",
    "\n",
    "fpr, tpr, thresholds = roc_curve(y_val, y_val_proba)\n",
    "\n",
    "def plot_roc_curve(fpr, tpr, label=None):\n",
    "    plt.plot([0, 1], [0, 1], color='grey', linestyle='--')\n",
    "    sns.lineplot(x=fpr, y=tpr, estimator=None, color='cornflowerblue', linewidth=3, label=label)\n",
    "    plt.title(\"ROC curve\")\n",
    "    plt.xlabel('False Positive Rate')\n",
    "    plt.ylabel('True Posiitve Rate')\n",
    "    plt.xlim([-0.05, 1.05])\n",
    "    plt.ylim([-0.05, 1.05])\n",
    "    \n",
    "plot_roc_curve(fpr, tpr)\n",
    "\n",
    "plt.savefig('./results/ROC.png', bbox_inches='tight', dpi=300);"
   ]
  },
  {
   "cell_type": "markdown",
   "metadata": {},
   "source": [
    "**Make predictions on new data**"
   ]
  },
  {
   "cell_type": "code",
   "execution_count": null,
   "metadata": {},
   "outputs": [],
   "source": [
    "filename = 'PE8_ROIs.csv'\n",
    "folder = 'plaineggED8/'\n",
    "name = 'egg46'\n",
    "region_size = 148\n",
    "X_test = LoadPatches.get_patches(filename, folder, patch_size, clip_limit, 'egg46')"
   ]
  },
  {
   "cell_type": "code",
   "execution_count": null,
   "metadata": {},
   "outputs": [],
   "source": [
    "X_test = tf.cast(X_test, tf.float32)\n",
    "test_ds = tf.data.Dataset.from_tensor_slices((X_test))"
   ]
  },
  {
   "cell_type": "code",
   "execution_count": null,
   "metadata": {},
   "outputs": [],
   "source": [
    "y_test_proba = model.predict_proba(X_test)"
   ]
  },
  {
   "cell_type": "code",
   "execution_count": null,
   "metadata": {},
   "outputs": [],
   "source": [
    "threshold = 0.8\n",
    "y_test_pred = np.where(y_test_proba > threshold, 1, 0)"
   ]
  },
  {
   "cell_type": "code",
   "execution_count": null,
   "metadata": {},
   "outputs": [],
   "source": [
    "plt.imshow(y_test_pred.reshape([-1, region_size, region_size])[0], \n",
    "           cmap = plt.cm.gray, interpolation = \"nearest\");\n",
    "plt.axis('off');\n",
    "plt.savefig('./results/test1.png', bbox_inches='tight', dpi=300);"
   ]
  },
  {
   "cell_type": "code",
   "execution_count": null,
   "metadata": {},
   "outputs": [],
   "source": [
    "plt.imshow(y_test_pred.reshape([-1, region_size, region_size])[1], \n",
    "           cmap = plt.cm.gray, interpolation = \"nearest\");\n",
    "plt.axis('off');\n",
    "plt.savefig('./results/test2.png', bbox_inches='tight', dpi=300);"
   ]
  },
  {
   "cell_type": "code",
   "execution_count": null,
   "metadata": {},
   "outputs": [],
   "source": [
    "plt.imshow(y_test_pred.reshape([-1, region_size, region_size])[2], \n",
    "           cmap = plt.cm.gray, interpolation = \"nearest\");\n",
    "plt.axis('off');\n",
    "plt.savefig('./results/test3.png', bbox_inches='tight', dpi=300);"
   ]
  },
  {
   "cell_type": "code",
   "execution_count": null,
   "metadata": {},
   "outputs": [],
   "source": []
  }
 ],
 "metadata": {
  "kernelspec": {
   "display_name": "Python 3",
   "language": "python",
   "name": "python3"
  },
  "language_info": {
   "codemirror_mode": {
    "name": "ipython",
    "version": 3
   },
   "file_extension": ".py",
   "mimetype": "text/x-python",
   "name": "python",
   "nbconvert_exporter": "python",
   "pygments_lexer": "ipython3",
   "version": "3.6.8"
  },
  "toc": {
   "base_numbering": 1,
   "nav_menu": {},
   "number_sections": true,
   "sideBar": true,
   "skip_h1_title": false,
   "title_cell": "Table of Contents",
   "title_sidebar": "Contents",
   "toc_cell": false,
   "toc_position": {},
   "toc_section_display": true,
   "toc_window_display": false
  }
 },
 "nbformat": 4,
 "nbformat_minor": 2
}
