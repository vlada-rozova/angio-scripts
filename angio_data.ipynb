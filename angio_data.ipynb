{
 "cells": [
  {
   "cell_type": "markdown",
   "metadata": {},
   "source": [
    "## Load the data, extract originals and labels"
   ]
  },
  {
   "cell_type": "code",
   "execution_count": null,
   "metadata": {},
   "outputs": [],
   "source": [
    "import os\n",
    "import pandas as pd\n",
    "import numpy as np\n",
    "import matplotlib.pyplot as plt\n",
    "import time\n",
    "import load_data\n",
    "start_time = time.time()\n",
    "\n",
    "originals, labels, count = load_data.process_rois('CS8_ROIs.csv', 'cellsuspensionED8/', 0)\n",
    "print('count = ', count)\n",
    "\n",
    "print(\"--- %s seconds ---\" % (time.time() - start_time))\n",
    "\n"
   ]
  },
  {
   "cell_type": "code",
   "execution_count": null,
   "metadata": {},
   "outputs": [],
   "source": [
    "labels = labels[:count, :]\n",
    "print('labels shape: ', labels.shape)\n",
    "originals = originals[: count, :, :]\n",
    "print('originals shape: ', originals.shape)"
   ]
  },
  {
   "cell_type": "code",
   "execution_count": null,
   "metadata": {},
   "outputs": [],
   "source": [
    "i = 0\n",
    "plt.figure(figsize=(15, 10))\n",
    "plt.subplot(141)\n",
    "plt.imshow(originals[i, :, :], cmap = plt.cm.gray, interpolation = \"nearest\")\n",
    "plt.subplot(142)\n",
    "plt.imshow(originals[i+1, :, :], cmap = plt.cm.gray, interpolation = \"nearest\")\n",
    "plt.subplot(143)\n",
    "plt.imshow(originals[i+2, :, :], cmap = plt.cm.gray, interpolation = \"nearest\")\n",
    "plt.subplot(144)\n",
    "plt.imshow(originals[i+3, :, :], cmap = plt.cm.gray, interpolation = \"nearest\")\n",
    "\n",
    "plt.figure(figsize=(15, 10))\n",
    "plt.subplot(141)\n",
    "plt.imshow(originals[i+4, :, :], cmap = plt.cm.gray, interpolation = \"nearest\")\n",
    "plt.subplot(142)\n",
    "plt.imshow(originals[i+5, :, :], cmap = plt.cm.gray, interpolation = \"nearest\")\n",
    "plt.subplot(143)\n",
    "plt.imshow(originals[i+6, :, :], cmap = plt.cm.gray, interpolation = \"nearest\")\n",
    "plt.subplot(144)\n",
    "plt.imshow(originals[i+7, :, :], cmap = plt.cm.gray, interpolation = \"nearest\")\n",
    "plt.show()\n",
    "print(originals[i:i+8, 11, 11])\n",
    "labels[i:i+8]"
   ]
  },
  {
   "cell_type": "code",
   "execution_count": null,
   "metadata": {},
   "outputs": [],
   "source": [
    "i = 2000\n",
    "plt.figure(figsize=(15, 10))\n",
    "plt.subplot(141)\n",
    "plt.imshow(originals[i, :, :], cmap = plt.cm.gray, interpolation = \"nearest\")\n",
    "plt.subplot(142)\n",
    "plt.imshow(originals[i+1, :, :], cmap = plt.cm.gray, interpolation = \"nearest\")\n",
    "plt.subplot(143)\n",
    "plt.imshow(originals[i+2, :, :], cmap = plt.cm.gray, interpolation = \"nearest\")\n",
    "plt.subplot(144)\n",
    "plt.imshow(originals[i+3, :, :], cmap = plt.cm.gray, interpolation = \"nearest\")\n",
    "\n",
    "plt.figure(figsize=(15, 10))\n",
    "plt.subplot(141)\n",
    "plt.imshow(originals[i+4, :, :], cmap = plt.cm.gray, interpolation = \"nearest\")\n",
    "plt.subplot(142)\n",
    "plt.imshow(originals[i+5, :, :], cmap = plt.cm.gray, interpolation = \"nearest\")\n",
    "plt.subplot(143)\n",
    "plt.imshow(originals[i+6, :, :], cmap = plt.cm.gray, interpolation = \"nearest\")\n",
    "plt.subplot(144)\n",
    "plt.imshow(originals[i+7, :, :], cmap = plt.cm.gray, interpolation = \"nearest\")\n",
    "plt.show()\n",
    "print(originals[i:i+8, 11, 11])\n",
    "labels[i:i+8]"
   ]
  },
  {
   "cell_type": "markdown",
   "metadata": {},
   "source": [
    "## Evaluate the data"
   ]
  },
  {
   "cell_type": "code",
   "execution_count": null,
   "metadata": {},
   "outputs": [],
   "source": [
    "path = '/Users/vladarozova/Dropbox/PhD project/angiogenesis/Anna\\'s results/cellsuspensionED8/'\n",
    "filename1 = 'egg2_1_blurred_skeletone.jpg'\n",
    "filename2 = 'egg3_2_blurred_skeletone.jpg'\n",
    "img1 = plt.imread(path + filename1)\n",
    "img2 = plt.imread(path + filename2)\n",
    "plt.subplot(121)\n",
    "plt.imshow(img1)\n",
    "plt.subplot(122)\n",
    "plt.imshow(img2)\n",
    "plt.show()"
   ]
  },
  {
   "cell_type": "code",
   "execution_count": null,
   "metadata": {},
   "outputs": [],
   "source": [
    "plt.hist(labels, bins = 255)\n",
    "plt.show()"
   ]
  },
  {
   "cell_type": "markdown",
   "metadata": {},
   "source": [
    "## Create binary labels"
   ]
  },
  {
   "cell_type": "code",
   "execution_count": null,
   "metadata": {},
   "outputs": [],
   "source": [
    "# TRUE if it's a vessel, otherwise FALSE\n",
    "binary_labels = 0 * (labels < 128) + 1 * (labels >= 128)\n",
    "#binary_labels = 1 * (labels < 128) + 0 * (labels >= 128)\n",
    "print(binary_labels.shape)\n",
    "print(binary_labels[:8])\n",
    "plt.hist(binary_labels, bins = 2)\n",
    "plt.show()"
   ]
  },
  {
   "cell_type": "code",
   "execution_count": null,
   "metadata": {},
   "outputs": [],
   "source": [
    "#n_neg = int(sum(binary_labels[:, 1]))\n",
    "n_pos = int(sum(binary_labels))\n",
    "n_neg = count - n_pos\n",
    "print('Number of negative samples: ', n_neg)\n",
    "print('Number of positive samples: ', n_pos)\n",
    "print('Fraction of positive samples: ', n_pos / count * 100, '%')\n",
    "new_ratio = 1\n",
    "n_neg_new = int(new_ratio * n_pos)\n",
    "print('Need to randomly choose ', n_neg_new, ' negative samples to make it', new_ratio, ': 1')"
   ]
  },
  {
   "cell_type": "markdown",
   "metadata": {},
   "source": [
    "## Reduce the number of negative samples"
   ]
  },
  {
   "cell_type": "code",
   "execution_count": null,
   "metadata": {},
   "outputs": [],
   "source": [
    "#neg_indeces = (np.where(binary_labels[:, 1] == 1))[0]\n",
    "neg_indeces = (np.where(binary_labels == 0))[0]\n",
    "np.random.shuffle(neg_indeces)\n",
    "neg_indeces_new = neg_indeces[:n_neg_new]"
   ]
  },
  {
   "cell_type": "markdown",
   "metadata": {},
   "source": [
    "## Create stratified training and test sets"
   ]
  },
  {
   "cell_type": "code",
   "execution_count": null,
   "metadata": {},
   "outputs": [],
   "source": [
    "train_ratio = 0.8\n",
    "n_samples = n_pos + n_neg_new\n",
    "\n",
    "print(n_samples, n_pos, n_neg_new)\n",
    "print('train: ', round(train_ratio * n_samples), ', test: ', round((1 - train_ratio) * n_samples))\n",
    "print('Positive. y_train: ', round(train_ratio * n_pos), ', y_test: ', round((1 - train_ratio) * n_pos))\n",
    "print('Negative. y_train: ', round(train_ratio * n_neg_new), ', y_test: ', round((1 - train_ratio) * n_neg_new))"
   ]
  },
  {
   "cell_type": "code",
   "execution_count": null,
   "metadata": {},
   "outputs": [],
   "source": [
    "#pos_indeces = (np.where(binary_labels[:, 0] == 1))[0]\n",
    "pos_indeces = (np.where(binary_labels == 1))[0]\n",
    "np.random.shuffle(pos_indeces)\n",
    "pos_indeces_train = pos_indeces[:round(train_ratio * n_pos)]\n",
    "pos_indeces_test = pos_indeces[round(train_ratio * n_pos):]\n",
    "\n",
    "neg_indeces_train = neg_indeces_new[:round(train_ratio * n_neg_new)]\n",
    "neg_indeces_test = neg_indeces_new[round(train_ratio * n_neg_new):]"
   ]
  },
  {
   "cell_type": "code",
   "execution_count": null,
   "metadata": {},
   "outputs": [],
   "source": [
    "train_indeces = np.append(pos_indeces_train, neg_indeces_train, axis=0)\n",
    "np.random.shuffle(train_indeces)\n",
    "X_train = originals[train_indeces, :, :]\n",
    "#y_train = labels[train_indeces]\n",
    "y_train = binary_labels[train_indeces]\n",
    "\n",
    "test_indeces = np.append(pos_indeces_test, neg_indeces_test, axis = 0)\n",
    "np.random.shuffle(test_indeces)\n",
    "X_test = originals[test_indeces, :, :]\n",
    "#y_test = labels[test_indeces]\n",
    "y_test = binary_labels[test_indeces]\n",
    "\n",
    "print(X_train.shape, y_train.shape)\n",
    "print(X_test.shape, y_test.shape)\n",
    "X_train.dtype"
   ]
  },
  {
   "cell_type": "markdown",
   "metadata": {},
   "source": [
    "## Data standardization across all patches"
   ]
  },
  {
   "cell_type": "code",
   "execution_count": null,
   "metadata": {},
   "outputs": [],
   "source": [
    "data_mean = np.mean(X_train)\n",
    "data_sd = np.std(X_train, ddof = 1)\n",
    "X_train_std = (X_train - data_mean) / data_sd\n",
    "print('Training set has mean', data_mean, 'and s.d.', data_sd)\n",
    "print('Standardized training set has mean', np.mean(X_train_std), 'and s.d.', np.std(X_train_std, ddof = 1))"
   ]
  },
  {
   "cell_type": "code",
   "execution_count": null,
   "metadata": {},
   "outputs": [],
   "source": [
    "X_test_std = (X_test - data_mean) / data_sd\n",
    "print('Test set has mean', np.mean(X_test), 'and s.d.', np.std(X_test, ddof = 1))\n",
    "print('Standardized training set has mean', np.mean(X_test_std), 'and s.d.', np.std(X_test_std, ddof = 1))"
   ]
  },
  {
   "cell_type": "code",
   "execution_count": null,
   "metadata": {
    "scrolled": true
   },
   "outputs": [],
   "source": [
    "X_train_small = X_train_std[:100, :, :]\n",
    "y_train_small = y_train[:100, :]\n",
    "print(X_train_small.shape, y_train_small.shape)\n",
    "print(y_train_small.sum())"
   ]
  },
  {
   "cell_type": "code",
   "execution_count": null,
   "metadata": {},
   "outputs": [],
   "source": []
  }
 ],
 "metadata": {
  "kernelspec": {
   "display_name": "Python 3",
   "language": "python",
   "name": "python3"
  },
  "language_info": {
   "codemirror_mode": {
    "name": "ipython",
    "version": 3
   },
   "file_extension": ".py",
   "mimetype": "text/x-python",
   "name": "python",
   "nbconvert_exporter": "python",
   "pygments_lexer": "ipython3",
   "version": "3.6.3"
  },
  "toc": {
   "nav_menu": {},
   "number_sections": true,
   "sideBar": true,
   "skip_h1_title": false,
   "toc_cell": false,
   "toc_position": {},
   "toc_section_display": "block",
   "toc_window_display": false
  }
 },
 "nbformat": 4,
 "nbformat_minor": 2
}
